{
 "cells": [
  {
   "cell_type": "markdown",
   "metadata": {
    "application/vnd.databricks.v1+cell": {
     "cellMetadata": {},
     "inputWidgets": {},
     "nuid": "cf2e8825-b1d2-4c6d-81ee-75c05f88d00c",
     "showTitle": false,
     "title": ""
    }
   },
   "source": [
    "## Traffic Crash Analysis\n",
    "\n",
    "### Data importing and pre-processing"
   ]
  },
  {
   "cell_type": "code",
   "execution_count": 0,
   "metadata": {
    "application/vnd.databricks.v1+cell": {
     "cellMetadata": {
      "byteLimit": 2048000,
      "rowLimit": 10000
     },
     "inputWidgets": {},
     "nuid": "3229176b-3990-44da-9583-71919c5cd60e",
     "showTitle": false,
     "title": ""
    }
   },
   "outputs": [],
   "source": [
    "import requests\n",
    "from pyspark.sql import SparkSession\n",
    "\n",
    "# Make the GET request\n",
    "resp = requests.get('https://data.cityofchicago.org/resource/85ca-t3if.json?$query=SELECT%20crash_record_id%2C%20crash_date_est_i%2C%20crash_date%2C%20posted_speed_limit%2C%20traffic_control_device%2C%20device_condition%2C%20weather_condition%2C%20lighting_condition%2C%20first_crash_type%2C%20trafficway_type%2C%20lane_cnt%2C%20alignment%2C%20roadway_surface_cond%2C%20road_defect%2C%20report_type%2C%20crash_type%2C%20intersection_related_i%2C%20private_property_i%2C%20hit_and_run_i%2C%20damage%2C%20date_police_notified%2C%20prim_contributory_cause%2C%20sec_contributory_cause%2C%20street_no%2C%20street_direction%2C%20street_name%2C%20beat_of_occurrence%2C%20photos_taken_i%2C%20statements_taken_i%2C%20dooring_i%2C%20work_zone_i%2C%20work_zone_type%2C%20workers_present_i%2C%20num_units%2C%20most_severe_injury%2C%20injuries_total%2C%20injuries_fatal%2C%20injuries_incapacitating%2C%20injuries_non_incapacitating%2C%20injuries_reported_not_evident%2C%20injuries_no_indication%2C%20injuries_unknown%2C%20crash_hour%2C%20crash_day_of_week%2C%20crash_month%2C%20latitude%2C%20longitude%2C%20location%20ORDER%20BY%20crash_date%20DESC%2C%20crash_record_id%20ASC')\n",
    "\n",
    "# Create a Spark session\n",
    "spark = SparkSession.builder.appName(\"SENG550\").getOrCreate()\n",
    "\n",
    "# Create a Spark DataFrame from the response text\n",
    "df2 = spark.read.json(spark.sparkContext.parallelize([resp.text]))\n"
   ]
  },
  {
   "cell_type": "code",
   "execution_count": 0,
   "metadata": {
    "application/vnd.databricks.v1+cell": {
     "cellMetadata": {
      "byteLimit": 2048000,
      "rowLimit": 10000
     },
     "inputWidgets": {},
     "nuid": "9eb8512f-928f-45de-8a07-38be8594f2e7",
     "showTitle": false,
     "title": ""
    }
   },
   "outputs": [
    {
     "output_type": "stream",
     "name": "stdout",
     "output_type": "stream",
     "text": [
      "+------------------+------------------+--------------------+----------------+-----------------+----------+-----------+--------------------+--------------------+-------------+--------------------+--------------------+---------+--------------------+-------------+--------------+-----------------------+----------------------+---------------------------+-----------------------------+--------------+----------------+----------------------+------------+--------------------+--------------------+-------------+--------------------+---------+--------------+------------------+-----------------------+------------------+--------------------+-----------+--------------------+----------------------+------------------+----------------+--------------------+---------+----------------------+--------------------+-----------------+-----------+--------------+-----------------+\n|         alignment|beat_of_occurrence|          crash_date|crash_date_est_i|crash_day_of_week|crash_hour|crash_month|     crash_record_id|          crash_type|       damage|date_police_notified|    device_condition|dooring_i|    first_crash_type|hit_and_run_i|injuries_fatal|injuries_incapacitating|injuries_no_indication|injuries_non_incapacitating|injuries_reported_not_evident|injuries_total|injuries_unknown|intersection_related_i|    latitude|  lighting_condition|            location|    longitude|  most_severe_injury|num_units|photos_taken_i|posted_speed_limit|prim_contributory_cause|private_property_i|         report_type|road_defect|roadway_surface_cond|sec_contributory_cause|statements_taken_i|street_direction|         street_name|street_no|traffic_control_device|     trafficway_type|weather_condition|work_zone_i|work_zone_type|workers_present_i|\n+------------------+------------------+--------------------+----------------+-----------------+----------+-----------+--------------------+--------------------+-------------+--------------------+--------------------+---------+--------------------+-------------+--------------+-----------------------+----------------------+---------------------------+-----------------------------+--------------+----------------+----------------------+------------+--------------------+--------------------+-------------+--------------------+---------+--------------+------------------+-----------------------+------------------+--------------------+-----------+--------------------+----------------------+------------------+----------------+--------------------+---------+----------------------+--------------------+-----------------+-----------+--------------+-----------------+\n|STRAIGHT AND LEVEL|               621|2023-11-22T01:40:...|               N|                4|         1|         11|6d3a24a1f2031e657...|INJURY AND / OR T...|  OVER $1,500|2023-11-22T01:40:...|         NO CONTROLS|     null|PARKED MOTOR VEHICLE|         null|             0|                      0|                     1|                          0|                            0|             0|               0|                  null| 41.75633481|DARKNESS, LIGHTED...|{[-87.63634482233...|-87.636344822|NO INDICATION OF ...|        2|          null|                30|   IMPROPER OVERTAKI...|              null|            ON SCENE| NO DEFECTS|                 DRY|        NOT APPLICABLE|              null|               W|             76TH ST|      448|           NO CONTROLS|DIVIDED - W/MEDIA...|            CLEAR|       null|          null|             null|\n|STRAIGHT AND LEVEL|               231|2023-11-22T00:50:...|            null|                4|         0|         11|05d52d810515672d4...|NO INJURY / DRIVE...|  OVER $1,500|2023-11-22T00:51:...|         NO CONTROLS|     null|PARKED MOTOR VEHICLE|            Y|             0|                      0|                     1|                          0|                            0|             0|               0|                  null|41.801450146|DARKNESS, LIGHTED...|{[-87.62086597374...|-87.620865974|NO INDICATION OF ...|        2|          null|                30|    UNABLE TO DETERMINE|              null|            ON SCENE| NO DEFECTS|                 DRY|   UNABLE TO DETERMINE|              null|               S|         INDIANA AVE|     5119|           NO CONTROLS|             ONE-WAY|            CLEAR|       null|          null|             null|\n|STRAIGHT AND LEVEL|              2525|2023-11-22T00:20:...|            null|                4|         0|         11|f2f8dcea80a5906f3...|NO INJURY / DRIVE...|$501 - $1,500|2023-11-22T01:00:...|         NO CONTROLS|     null|               ANGLE|         null|             0|                      0|                     3|                          0|                            0|             0|               0|                  null|41.923994137|            DARKNESS|{[-87.72201425697...|-87.722014257|NO INDICATION OF ...|        2|          null|                30|    UNABLE TO DETERMINE|              null|NOT ON SCENE (DES...|    UNKNOWN|                 DRY|   UNABLE TO DETERMINE|              null|               N|          HAMLIN AVE|     2342|           NO CONTROLS|             ONE-WAY|            CLEAR|       null|          null|             null|\n|STRAIGHT AND LEVEL|              1113|2023-11-22T00:01:...|            null|                4|         0|         11|66c517d83cb470b10...|INJURY AND / OR T...|  OVER $1,500|2023-11-22T00:11:...|FUNCTIONING PROPERLY|     null|            REAR END|            Y|             0|                      0|                     1|                          1|                            3|             4|               0|                  null|41.883079908|DARKNESS, LIGHTED...|{[-87.74012911451...|-87.740129115|NONINCAPACITATING...|        2|          null|                30|   FAILING TO REDUCE...|              null|            ON SCENE| NO DEFECTS|                 DRY|  FOLLOWING TOO CLO...|              null|               W|        WEST END AVE|     4559|     STOP SIGN/FLASHER|            FOUR WAY|            CLEAR|       null|          null|             null|\n|STRAIGHT AND LEVEL|               633|2023-11-21T23:50:...|            null|                3|        23|         11|1a3372cbd11efd059...|INJURY AND / OR T...|  OVER $1,500|2023-11-21T23:59:...|         NO CONTROLS|     null|PARKED MOTOR VEHICLE|            Y|             0|                      0|                     1|                          0|                            0|             0|               0|                  null|41.727288038|DARKNESS, LIGHTED...|{[-87.61442881314...|-87.614428813|NO INDICATION OF ...|        4|          null|                30|   FAILING TO REDUCE...|              null|            ON SCENE| NO DEFECTS|                 DRY|  FAILING TO REDUCE...|              null|               S|DR MARTIN LUTHER ...|     9164|           NO CONTROLS|         NOT DIVIDED|            CLEAR|       null|          null|             null|\n+------------------+------------------+--------------------+----------------+-----------------+----------+-----------+--------------------+--------------------+-------------+--------------------+--------------------+---------+--------------------+-------------+--------------+-----------------------+----------------------+---------------------------+-----------------------------+--------------+----------------+----------------------+------------+--------------------+--------------------+-------------+--------------------+---------+--------------+------------------+-----------------------+------------------+--------------------+-----------+--------------------+----------------------+------------------+----------------+--------------------+---------+----------------------+--------------------+-----------------+-----------+--------------+-----------------+\nonly showing top 5 rows\n\n"
     ]
    }
   ],
   "source": [
    "# Show the DataFrame\n",
    "df2.show(5)"
   ]
  },
  {
   "cell_type": "markdown",
   "metadata": {
    "application/vnd.databricks.v1+cell": {
     "cellMetadata": {},
     "inputWidgets": {},
     "nuid": "bc35b820-a855-491c-b724-89015c9c00ea",
     "showTitle": false,
     "title": ""
    }
   },
   "source": [
    "### Extract Weather Condition"
   ]
  },
  {
   "cell_type": "code",
   "execution_count": 0,
   "metadata": {
    "application/vnd.databricks.v1+cell": {
     "cellMetadata": {
      "byteLimit": 2048000,
      "rowLimit": 10000
     },
     "inputWidgets": {},
     "nuid": "cad552b8-4a47-4789-a01e-3e657c9b1ede",
     "showTitle": false,
     "title": ""
    }
   },
   "outputs": [
    {
     "output_type": "stream",
     "name": "stdout",
     "output_type": "stream",
     "text": [
      "Top 10 Records from Weather condition:\n['CLEAR', 'CLEAR', 'CLEAR', 'CLEAR', 'CLEAR', 'CLEAR', 'CLEAR', 'CLEAR', 'CLEAR', 'CLEAR']\n"
     ]
    }
   ],
   "source": [
    "feature_weather = df2.select(\"Weather_condition\")\n",
    "# Extract the values from the selected column using rdd.map\n",
    "rdd_from_weather = feature_weather.rdd.map(lambda row: row[0])\n",
    "\n",
    "# Display the top 10 records\n",
    "print(\"Top 10 Records from Weather condition:\")\n",
    "print(rdd_from_weather.take(10))"
   ]
  },
  {
   "cell_type": "markdown",
   "metadata": {
    "application/vnd.databricks.v1+cell": {
     "cellMetadata": {},
     "inputWidgets": {},
     "nuid": "6f0a5850-92bb-4fe4-8449-8a533b939e7d",
     "showTitle": false,
     "title": ""
    }
   },
   "source": [
    "### Extract Crash Type"
   ]
  },
  {
   "cell_type": "code",
   "execution_count": 0,
   "metadata": {
    "application/vnd.databricks.v1+cell": {
     "cellMetadata": {
      "byteLimit": 2048000,
      "rowLimit": 10000
     },
     "inputWidgets": {},
     "nuid": "570cfba3-73ed-45e1-9f1b-3ecbe532815f",
     "showTitle": false,
     "title": ""
    }
   },
   "outputs": [
    {
     "output_type": "stream",
     "name": "stdout",
     "output_type": "stream",
     "text": [
      "Top 10 Records from Crash Type:\n['INJURY AND / OR TOW DUE TO CRASH', 'NO INJURY / DRIVE AWAY', 'NO INJURY / DRIVE AWAY', 'INJURY AND / OR TOW DUE TO CRASH', 'INJURY AND / OR TOW DUE TO CRASH', 'NO INJURY / DRIVE AWAY', 'INJURY AND / OR TOW DUE TO CRASH', 'NO INJURY / DRIVE AWAY', 'INJURY AND / OR TOW DUE TO CRASH', 'NO INJURY / DRIVE AWAY']\n"
     ]
    }
   ],
   "source": [
    "feature_crashType = df2.select(\"Crash_type\")\n",
    "# Extract the values from the selected column using rdd.map\n",
    "rdd_from_crashType = feature_crashType.rdd.map(lambda row: row[0])\n",
    "\n",
    "# Display the top 10 records\n",
    "print(\"Top 10 Records from Crash Type:\")\n",
    "print(rdd_from_crashType.take(10))"
   ]
  },
  {
   "cell_type": "markdown",
   "metadata": {
    "application/vnd.databricks.v1+cell": {
     "cellMetadata": {},
     "inputWidgets": {},
     "nuid": "60d4ebcf-6f09-4954-a7d9-fed354d71f40",
     "showTitle": false,
     "title": ""
    }
   },
   "source": [
    "### Extract Lighting Condition and Time of Year Crash Occurred"
   ]
  },
  {
   "cell_type": "code",
   "execution_count": 0,
   "metadata": {
    "application/vnd.databricks.v1+cell": {
     "cellMetadata": {
      "byteLimit": 2048000,
      "rowLimit": 10000
     },
     "inputWidgets": {},
     "nuid": "7a760d2a-2c76-4244-bfca-4e1e1e33d44a",
     "showTitle": false,
     "title": ""
    }
   },
   "outputs": [
    {
     "output_type": "stream",
     "name": "stdout",
     "output_type": "stream",
     "text": [
      "Top 10 Records from Crash Date and Time:\n['2023-11-22T01:40:00.000', '2023-11-22T00:50:00.000', '2023-11-22T00:20:00.000', '2023-11-22T00:01:00.000', '2023-11-21T23:50:00.000', '2023-11-21T23:46:00.000', '2023-11-21T22:55:00.000', '2023-11-21T21:50:00.000', '2023-11-21T21:48:00.000', '2023-11-21T21:45:00.000']\nTop 10 Records from Lighting Condition:\n['DARKNESS, LIGHTED ROAD', 'DARKNESS, LIGHTED ROAD', 'DARKNESS', 'DARKNESS, LIGHTED ROAD', 'DARKNESS, LIGHTED ROAD', 'DARKNESS, LIGHTED ROAD', 'DARKNESS, LIGHTED ROAD', 'DARKNESS', 'DARKNESS', 'DARKNESS']\n"
     ]
    }
   ],
   "source": [
    "feature_crashDate = df2.select(\"Crash_date\")\n",
    "# Extract the values from the selected column using rdd.map\n",
    "rdd_from_crashDate = feature_crashDate.rdd.map(lambda row: row[0])\n",
    "\n",
    "feature_lighting = df2.select(\"Lighting_condition\")\n",
    "rdd_from_lighting = feature_lighting.rdd.map(lambda row: row[0]) \n",
    "\n",
    "# Display the top 10 records\n",
    "print(\"First 10 Records from Crash Date and Time:\")\n",
    "print(rdd_from_crashDate.take(10))irst\n",
    "\n",
    "print(\"First 10 Records from Lighting Condition:\")\n",
    "print(rdd_from_lighting.take(10))"
   ]
  },
  {
   "cell_type": "markdown",
   "metadata": {
    "application/vnd.databricks.v1+cell": {
     "cellMetadata": {},
     "inputWidgets": {},
     "nuid": "085c3c0c-0607-41a3-be18-090febb9513f",
     "showTitle": false,
     "title": ""
    }
   },
   "source": [
    "### Extract Longitude and Latitude"
   ]
  },
  {
   "cell_type": "code",
   "execution_count": 0,
   "metadata": {
    "application/vnd.databricks.v1+cell": {
     "cellMetadata": {
      "byteLimit": 2048000,
      "rowLimit": 10000
     },
     "inputWidgets": {},
     "nuid": "b83f3caf-2837-4470-8a0a-02eca010d691",
     "showTitle": false,
     "title": ""
    }
   },
   "outputs": [
    {
     "output_type": "stream",
     "name": "stdout",
     "output_type": "stream",
     "text": [
      "First 10 Records from Longitude:\n['-87.636344822', '-87.620865974', '-87.722014257', '-87.740129115', '-87.614428813', '-87.596070684', '-87.566154615', '-87.719071202', '-87.662862407', '-87.717587476']\nFirst 10 Records from Latitude:\n['41.75633481', '41.801450146', '41.923994137', '41.883079908', '41.727288038', '41.736662284', '41.755271379', '41.745775042', '41.772320473', '41.946613704']\n"
     ]
    }
   ],
   "source": [
    "feature_longitude = df2.select(\"Longitude\")\n",
    "# Extract the values from the selected column using rdd.map\n",
    "rdd_from_longitude = feature_longitude.rdd.map(lambda row: row[0])\n",
    "\n",
    "feature_latitude = df2.select(\"Latitude\")\n",
    "rdd_from_latitude = feature_latitude.rdd.map(lambda row: row[0]) \n",
    "\n",
    "# Display the first 10 records\n",
    "print(\"First 10 Records from Longitude:\")\n",
    "print(rdd_from_longitude.take(10))\n",
    "\n",
    "print(\"First 10 Records from Latitude:\")\n",
    "print(rdd_from_latitude.take(10))"
   ]
  },
  {
   "cell_type": "markdown",
   "metadata": {
    "application/vnd.databricks.v1+cell": {
     "cellMetadata": {},
     "inputWidgets": {},
     "nuid": "a9fad5a2-1613-4cec-ae8e-1d128510cfbf",
     "showTitle": false,
     "title": ""
    }
   },
   "source": [
    "### Create RDD of wanted features"
   ]
  },
  {
   "cell_type": "code",
   "execution_count": 0,
   "metadata": {
    "application/vnd.databricks.v1+cell": {
     "cellMetadata": {
      "byteLimit": 2048000,
      "rowLimit": 10000
     },
     "inputWidgets": {},
     "nuid": "1d16fd3f-6dba-4801-8d28-537a47d1759f",
     "showTitle": false,
     "title": ""
    }
   },
   "outputs": [
    {
     "output_type": "stream",
     "name": "stdout",
     "output_type": "stream",
     "text": [
      "+--------------------+---------+-----------------+--------------------+--------------------+--------------------+\n|          Crash_type|num_units|Weather_condition|          Crash_date|  Most_severe_injury|            Location|\n+--------------------+---------+-----------------+--------------------+--------------------+--------------------+\n|INJURY AND / OR T...|        2|            CLEAR|2023-11-24T22:38:...|NO INDICATION OF ...|{[-87.64676940482...|\n+--------------------+---------+-----------------+--------------------+--------------------+--------------------+\nonly showing top 1 row\n\n"
     ]
    }
   ],
   "source": [
    "wanted_columns = df2.select(\"Crash_type\",\"num_units\",\"Weather_condition\",\"Crash_date\",\"Most_severe_injury\",\"Location\")\n",
    "wanted_columns.show(1)\n",
    "rdd_of_features = wanted_columns.rdd.map(lambda row:[row[0],row[1],row[2],row[3],row[4],row[5]])\n"
   ]
  },
  {
   "cell_type": "markdown",
   "metadata": {
    "application/vnd.databricks.v1+cell": {
     "cellMetadata": {
      "byteLimit": 2048000,
      "rowLimit": 10000
     },
     "inputWidgets": {},
     "nuid": "04cf460a-c0c5-4d25-b736-79f06b69fc19",
     "showTitle": false,
     "title": ""
    }
   },
   "source": [
    "### Remove all rows where the content of one of the fields is unknown"
   ]
  },
  {
   "cell_type": "code",
   "execution_count": 0,
   "metadata": {
    "application/vnd.databricks.v1+cell": {
     "cellMetadata": {
      "byteLimit": 2048000,
      "rowLimit": 10000
     },
     "inputWidgets": {},
     "nuid": "bd8e8d5e-837d-4d7f-b335-4099e24b27db",
     "showTitle": false,
     "title": ""
    }
   },
   "outputs": [
    {
     "output_type": "stream",
     "name": "stdout",
     "output_type": "stream",
     "text": [
      "1000\n909\n"
     ]
    }
   ],
   "source": [
    "print(rdd_of_features.count())\n",
    "#row[0] = Crash_type, row[2] = Weather_condition,  row[4]= Most_severe_injury\n",
    "cleaned_data_rdd = rdd_of_features.filter(lambda row: row[0]!=\"UNKNOWN\"  and row[2]!=\"UNKNOWN\"  and row[4]!=\"UNKNOWN\" and row[5] != None and row[0] != None and row[1] != None and row[2] != None and row[3] != None and row[4] != None)\n",
    "print(cleaned_data_rdd.count())"
   ]
  },
  {
   "cell_type": "markdown",
   "metadata": {
    "application/vnd.databricks.v1+cell": {
     "cellMetadata": {
      "byteLimit": 2048000,
      "rowLimit": 10000
     },
     "inputWidgets": {},
     "nuid": "db499f2b-8f48-4a7d-8fb7-b399b739179d",
     "showTitle": false,
     "title": ""
    }
   },
   "source": [
    "### Create Dataframe from RDD and get it ready for regression"
   ]
  },
  {
   "cell_type": "code",
   "execution_count": 0,
   "metadata": {
    "application/vnd.databricks.v1+cell": {
     "cellMetadata": {
      "byteLimit": 2048000,
      "rowLimit": 10000
     },
     "inputWidgets": {},
     "nuid": "5b6a14eb-205d-441d-884b-f6aba0d71546",
     "showTitle": false,
     "title": ""
    }
   },
   "outputs": [
    {
     "output_type": "stream",
     "name": "stdout",
     "output_type": "stream",
     "text": [
      "[('_1', 'string'), ('_2', 'string'), ('_3', 'string'), ('_4', 'string'), ('_5', 'string'), ('_6', 'struct<coordinates:array<double>,type:string>')]\n[('_1', 'string'), ('_2', 'string'), ('_3', 'string'), ('_4', 'string'), ('_5', 'string'), ('_6', 'string')]\n"
     ]
    }
   ],
   "source": [
    "from pyspark.ml.regression import LinearRegression\n",
    "from pyspark.ml.feature import StringIndexer\n",
    "from pyspark.ml import Pipeline\n",
    "\n",
    "cleaned_data_df = spark.createDataFrame(cleaned_data_rdd)\n",
    "\n",
    "#_1 = Crash_type, _2 = numUnits, _3 = weather, _4 = time, _5 = injury severity, _6 = latitude/longitude\n",
    "print(cleaned_data_df.dtypes)\n",
    "proper_typed_df = cleaned_data_df.withColumn(\"_6\", cleaned_data_df[\"_6\"].cast(\"string\"))\n",
    "print(proper_typed_df.dtypes)\n",
    "indexers = [StringIndexer(inputCol=column, outputCol=column+\"_index\").fit(proper_typed_df) for column in list(set(proper_typed_df.columns)) ]\n",
    "\n",
    "\n",
    "pipeline = Pipeline(stages=indexers)\n",
    "\n",
    "indexed_df = pipeline.fit(proper_typed_df).transform(proper_typed_df)\n",
    "#indexed_df.show()"
   ]
  },
  {
   "cell_type": "markdown",
   "metadata": {
    "application/vnd.databricks.v1+cell": {
     "cellMetadata": {
      "byteLimit": 2048000,
      "rowLimit": 10000
     },
     "inputWidgets": {},
     "nuid": "8ed6c6f0-fd0f-475a-ab65-e88e743030ed",
     "showTitle": false,
     "title": ""
    }
   },
   "source": [
    "### Apply linear regression"
   ]
  },
  {
   "cell_type": "code",
   "execution_count": 0,
   "metadata": {
    "application/vnd.databricks.v1+cell": {
     "cellMetadata": {
      "byteLimit": 2048000,
      "rowLimit": 10000
     },
     "inputWidgets": {},
     "nuid": "dd9ce51d-35bf-44fa-af66-7d6bc43af134",
     "showTitle": false,
     "title": ""
    }
   },
   "outputs": [
    {
     "output_type": "stream",
     "name": "stdout",
     "output_type": "stream",
     "text": [
      "+--------------------+--------+------------------+\n|Independent Features|_6_index|        prediction|\n+--------------------+--------+------------------+\n|(5,[0,3],[1.0,43.0])|    15.0| 455.8612812805219|\n|(5,[0,3],[1.0,87.0])|    17.0|454.48669010187183|\n|(5,[0,3],[1.0,96.0])|   550.0| 454.2055237244207|\n|(5,[0,3],[1.0,109...|   391.0|453.79939451254677|\n|(5,[0,3],[1.0,143...|   883.0|452.73721041995356|\n|(5,[0,3],[1.0,374...|    44.0|445.52060673204073|\n|(5,[0,3],[1.0,436...|   506.0| 443.5836827984884|\n|(5,[0,3],[1.0,473...|   148.0| 442.4277765800781|\n|(5,[0,3],[1.0,478...|    92.0| 442.2715730370497|\n|(5,[0,3],[1.0,573...|    23.0|439.30370571950976|\n|(5,[0,3],[1.0,621...|    78.0|  437.804151706437|\n|(5,[0,3],[1.0,623...|   320.0| 437.7416702892256|\n|(5,[1,3],[1.0,25.0])|   700.0|476.32097289357216|\n|(5,[1,3],[1.0,362...|   733.0| 465.7928540934569|\n|       (5,[2],[1.0])|   641.0|460.11360072233964|\n|(5,[2,3],[1.0,31.0])|   373.0|459.14513875556344|\n|(5,[2,3],[1.0,32.0])|   587.0|459.11389804695773|\n|(5,[2,3],[1.0,35.0])|   144.0| 459.0201759211407|\n|(5,[2,3],[1.0,64.0])|   856.0| 458.1141953715759|\n|(5,[2,3],[1.0,66.0])|   620.0| 458.0517139543645|\n+--------------------+--------+------------------+\nonly showing top 20 rows\n\n"
     ]
    }
   ],
   "source": [
    "\n",
    "from pyspark.ml.feature import VectorAssembler\n",
    "feature_assembler = VectorAssembler(inputCols = [\"_1_index\",\"_2_index\",\"_3_index\",\"_4_index\",\"_5_index\",], outputCol = \"Independent Features\")\n",
    "\n",
    "output = feature_assembler.transform(indexed_df)\n",
    "#output.select(\"Independent Features\").show()\n",
    "\n",
    "finalised_data = output.select(\"Independent Features\", \"_6_index\")\n",
    "\n",
    "train_data, test_data = finalised_data.randomSplit([0.8, 0.2])\n",
    "\n",
    "regressor = LinearRegression(featuresCol = 'Independent Features', labelCol = '_6_index')\n",
    "\n",
    "regressor = regressor.fit(train_data)\n",
    "\n",
    "pred_results = regressor.evaluate(test_data)\n",
    "pred_results.predictions.show()"
   ]
  }
 ],
 "metadata": {
  "application/vnd.databricks.v1+notebook": {
   "dashboards": [],
   "language": "python",
   "notebookMetadata": {
    "pythonIndentUnit": 4
   },
   "notebookName": "Traffic Crash Analysis",
   "widgets": {}
  }
 },
 "nbformat": 4,
 "nbformat_minor": 0
}
