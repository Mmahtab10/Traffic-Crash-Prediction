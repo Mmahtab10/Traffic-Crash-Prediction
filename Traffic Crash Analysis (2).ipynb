{
 "cells": [
  {
   "cell_type": "markdown",
   "metadata": {
    "application/vnd.databricks.v1+cell": {
     "cellMetadata": {
      "byteLimit": 2048000,
      "rowLimit": 10000
     },
     "inputWidgets": {},
     "nuid": "cf2e8825-b1d2-4c6d-81ee-75c05f88d00c",
     "showTitle": false,
     "title": ""
    }
   },
   "source": [
    "## Traffic Crash Analysis\n",
    "\n",
    "### Data importing and pre-processing"
   ]
  },
  {
   "cell_type": "code",
   "execution_count": 0,
   "metadata": {
    "application/vnd.databricks.v1+cell": {
     "cellMetadata": {
      "byteLimit": 2048000,
      "rowLimit": 10000
     },
     "inputWidgets": {},
     "nuid": "3229176b-3990-44da-9583-71919c5cd60e",
     "showTitle": false,
     "title": ""
    }
   },
   "outputs": [],
   "source": [
    "import requests\n",
    "from pyspark.sql import SparkSession\n",
    "\n",
    "# Make the GET request\n",
    "resp = requests.get('https://data.cityofchicago.org/resource/85ca-t3if.json?$query=SELECT%20crash_record_id%2C%20crash_date_est_i%2C%20crash_date%2C%20posted_speed_limit%2C%20traffic_control_device%2C%20device_condition%2C%20weather_condition%2C%20lighting_condition%2C%20first_crash_type%2C%20trafficway_type%2C%20lane_cnt%2C%20alignment%2C%20roadway_surface_cond%2C%20road_defect%2C%20report_type%2C%20crash_type%2C%20intersection_related_i%2C%20private_property_i%2C%20hit_and_run_i%2C%20damage%2C%20date_police_notified%2C%20prim_contributory_cause%2C%20sec_contributory_cause%2C%20street_no%2C%20street_direction%2C%20street_name%2C%20beat_of_occurrence%2C%20photos_taken_i%2C%20statements_taken_i%2C%20dooring_i%2C%20work_zone_i%2C%20work_zone_type%2C%20workers_present_i%2C%20num_units%2C%20most_severe_injury%2C%20injuries_total%2C%20injuries_fatal%2C%20injuries_incapacitating%2C%20injuries_non_incapacitating%2C%20injuries_reported_not_evident%2C%20injuries_no_indication%2C%20injuries_unknown%2C%20crash_hour%2C%20crash_day_of_week%2C%20crash_month%2C%20latitude%2C%20longitude%2C%20location%20ORDER%20BY%20crash_date%20DESC%2C%20crash_record_id%20ASC')\n",
    "\n",
    "# Create a Spark session\n",
    "spark = SparkSession.builder.appName(\"SENG550\").getOrCreate()\n",
    "\n",
    "# Create a Spark DataFrame from the response text\n",
    "df2 = spark.read.json(spark.sparkContext.parallelize([resp.text]))\n"
   ]
  },
  {
   "cell_type": "code",
   "execution_count": 0,
   "metadata": {
    "application/vnd.databricks.v1+cell": {
     "cellMetadata": {
      "byteLimit": 2048000,
      "rowLimit": 10000
     },
     "inputWidgets": {},
     "nuid": "9eb8512f-928f-45de-8a07-38be8594f2e7",
     "showTitle": false,
     "title": ""
    }
   },
   "outputs": [
    {
     "output_type": "stream",
     "name": "stdout",
     "output_type": "stream",
     "text": [
      "+------------------+------------------+--------------------+----------------+-----------------+----------+-----------+--------------------+--------------------+-------------+--------------------+--------------------+---------+--------------------+-------------+--------------+-----------------------+----------------------+---------------------------+-----------------------------+--------------+----------------+----------------------+------------+--------------------+--------------------+-------------+--------------------+---------+--------------+------------------+-----------------------+------------------+--------------------+-----------+--------------------+----------------------+------------------+----------------+-----------+---------+----------------------+--------------------+-----------------+-----------+--------------+\n|         alignment|beat_of_occurrence|          crash_date|crash_date_est_i|crash_day_of_week|crash_hour|crash_month|     crash_record_id|          crash_type|       damage|date_police_notified|    device_condition|dooring_i|    first_crash_type|hit_and_run_i|injuries_fatal|injuries_incapacitating|injuries_no_indication|injuries_non_incapacitating|injuries_reported_not_evident|injuries_total|injuries_unknown|intersection_related_i|    latitude|  lighting_condition|            location|    longitude|  most_severe_injury|num_units|photos_taken_i|posted_speed_limit|prim_contributory_cause|private_property_i|         report_type|road_defect|roadway_surface_cond|sec_contributory_cause|statements_taken_i|street_direction|street_name|street_no|traffic_control_device|     trafficway_type|weather_condition|work_zone_i|work_zone_type|\n+------------------+------------------+--------------------+----------------+-----------------+----------+-----------+--------------------+--------------------+-------------+--------------------+--------------------+---------+--------------------+-------------+--------------+-----------------------+----------------------+---------------------------+-----------------------------+--------------+----------------+----------------------+------------+--------------------+--------------------+-------------+--------------------+---------+--------------+------------------+-----------------------+------------------+--------------------+-----------+--------------------+----------------------+------------------+----------------+-----------+---------+----------------------+--------------------+-----------------+-----------+--------------+\n|STRAIGHT AND LEVEL|               833|2023-11-26T22:50:...|            NULL|                1|        22|         11|0f2ac1f50f4cde776...|NO INJURY / DRIVE...|$501 - $1,500|2023-11-26T23:20:...|         NO CONTROLS|     NULL|SIDESWIPE OPPOSIT...|            Y|             0|                      0|                     3|                          0|                            0|             0|               0|                  NULL|41.767951147|DARKNESS, LIGHTED...|{[-87.71526084492...|-87.715260845|NO INDICATION OF ...|        2|          NULL|                25|    UNABLE TO DETERMINE|              NULL|NOT ON SCENE (DES...| NO DEFECTS|                 DRY|        NOT APPLICABLE|              NULL|               W|    69TH ST|     3700|           NO CONTROLS|DIVIDED - W/MEDIA...|            CLEAR|       NULL|          NULL|\n|STRAIGHT AND LEVEL|               533|2023-11-26T21:46:...|            NULL|                1|        21|         11|cfdb41ca6fcd4701a...|INJURY AND / OR T...|  OVER $1,500|2023-11-26T21:46:...|             UNKNOWN|     NULL|             TURNING|            Y|             0|                      0|                     1|                          2|                            0|             2|               0|                     Y|41.659434298|             UNKNOWN|{[-87.59785302935...|-87.597853029|NONINCAPACITATING...|        2|          NULL|                30|   FAILING TO YIELD ...|              NULL|            ON SCENE| NO DEFECTS|             UNKNOWN|        NOT APPLICABLE|              NULL|               S|  ELLIS AVE|    13000|        TRAFFIC SIGNAL|            FOUR WAY|            CLEAR|       NULL|          NULL|\n|STRAIGHT AND LEVEL|               412|2023-11-26T21:25:...|            NULL|                1|        21|         11|f7fe6e5123384ebb6...|INJURY AND / OR T...|  OVER $1,500|2023-11-26T21:26:...|FUNCTIONING PROPERLY|     NULL|               ANGLE|         NULL|             0|                      1|                     0|                          2|                            1|             4|               0|                     Y|41.737030992|DARKNESS, LIGHTED...|{[-87.58508645353...|-87.585086454|INCAPACITATING IN...|        2|          NULL|                30|    UNABLE TO DETERMINE|              NULL|            ON SCENE| NO DEFECTS|                 DRY|   UNABLE TO DETERMINE|              NULL|               E|    87TH ST|     1600|        TRAFFIC SIGNAL|            FOUR WAY|            CLEAR|       NULL|          NULL|\n|STRAIGHT AND LEVEL|               623|2023-11-26T21:00:...|               Y|                1|        21|         11|30677b22229443f87...|NO INJURY / DRIVE...|  OVER $1,500|2023-11-26T21:00:...|         NO CONTROLS|     NULL|PARKED MOTOR VEHICLE|            Y|             0|                      0|                     1|                          0|                            0|             0|               0|                  NULL|41.748908764|DARKNESS, LIGHTED...|{[-87.63084518759...|-87.630845188|NO INDICATION OF ...|        2|          NULL|                30|    UNABLE TO DETERMINE|              NULL|            ON SCENE| NO DEFECTS|                 DRY|   UNABLE TO DETERMINE|              NULL|               W|    80TH ST|      237|           NO CONTROLS|             ONE-WAY|            CLEAR|       NULL|          NULL|\n|STRAIGHT AND LEVEL|              1832|2023-11-26T21:00:...|            NULL|                1|        21|         11|343513291aa402f61...|NO INJURY / DRIVE...|  OVER $1,500|2023-11-26T21:35:...|FUNCTIONING PROPERLY|     NULL|            REAR END|         NULL|             0|                      0|                     4|                          0|                            0|             0|               0|                  NULL|41.896678875|DARKNESS, LIGHTED...|{[-87.63285766049...| -87.63285766|NO INDICATION OF ...|        2|          NULL|                35|    UNABLE TO DETERMINE|              NULL|NOT ON SCENE (DES...| NO DEFECTS|                 DRY|        NOT APPLICABLE|              NULL|               N|LA SALLE DR|      800|        TRAFFIC SIGNAL|DIVIDED - W/MEDIA...|            CLEAR|       NULL|          NULL|\n+------------------+------------------+--------------------+----------------+-----------------+----------+-----------+--------------------+--------------------+-------------+--------------------+--------------------+---------+--------------------+-------------+--------------+-----------------------+----------------------+---------------------------+-----------------------------+--------------+----------------+----------------------+------------+--------------------+--------------------+-------------+--------------------+---------+--------------+------------------+-----------------------+------------------+--------------------+-----------+--------------------+----------------------+------------------+----------------+-----------+---------+----------------------+--------------------+-----------------+-----------+--------------+\nonly showing top 5 rows\n\n"
     ]
    }
   ],
   "source": [
    "# Show the DataFrame\n",
    "df2.show(5)"
   ]
  },
  {
   "cell_type": "markdown",
   "metadata": {
    "application/vnd.databricks.v1+cell": {
     "cellMetadata": {
      "byteLimit": 2048000,
      "rowLimit": 10000
     },
     "inputWidgets": {},
     "nuid": "bc35b820-a855-491c-b724-89015c9c00ea",
     "showTitle": false,
     "title": ""
    }
   },
   "source": [
    "### Extract Weather Condition"
   ]
  },
  {
   "cell_type": "code",
   "execution_count": 0,
   "metadata": {
    "application/vnd.databricks.v1+cell": {
     "cellMetadata": {
      "byteLimit": 2048000,
      "rowLimit": 10000
     },
     "inputWidgets": {},
     "nuid": "cad552b8-4a47-4789-a01e-3e657c9b1ede",
     "showTitle": false,
     "title": ""
    }
   },
   "outputs": [
    {
     "output_type": "stream",
     "name": "stdout",
     "output_type": "stream",
     "text": [
      "Top 10 Records from Weather condition:\n['CLEAR', 'CLEAR', 'CLEAR', 'CLEAR', 'CLEAR', 'CLEAR', 'CLEAR', 'UNKNOWN', 'UNKNOWN', 'CLEAR']\n"
     ]
    }
   ],
   "source": [
    "feature_weather = df2.select(\"Weather_condition\")\n",
    "# Extract the values from the selected column using rdd.map\n",
    "rdd_from_weather = feature_weather.rdd.map(lambda row: row[0])\n",
    "\n",
    "# Display the top 10 records\n",
    "print(\"Top 10 Records from Weather condition:\")\n",
    "print(rdd_from_weather.take(10))"
   ]
  },
  {
   "cell_type": "markdown",
   "metadata": {
    "application/vnd.databricks.v1+cell": {
     "cellMetadata": {
      "byteLimit": 2048000,
      "rowLimit": 10000
     },
     "inputWidgets": {},
     "nuid": "6f0a5850-92bb-4fe4-8449-8a533b939e7d",
     "showTitle": false,
     "title": ""
    }
   },
   "source": [
    "### Extract Crash Type"
   ]
  },
  {
   "cell_type": "code",
   "execution_count": 0,
   "metadata": {
    "application/vnd.databricks.v1+cell": {
     "cellMetadata": {
      "byteLimit": 2048000,
      "rowLimit": 10000
     },
     "inputWidgets": {},
     "nuid": "570cfba3-73ed-45e1-9f1b-3ecbe532815f",
     "showTitle": false,
     "title": ""
    }
   },
   "outputs": [
    {
     "output_type": "stream",
     "name": "stdout",
     "output_type": "stream",
     "text": [
      "Top 10 Records from Crash Type:\n['NO INJURY / DRIVE AWAY', 'INJURY AND / OR TOW DUE TO CRASH', 'INJURY AND / OR TOW DUE TO CRASH', 'NO INJURY / DRIVE AWAY', 'NO INJURY / DRIVE AWAY', 'INJURY AND / OR TOW DUE TO CRASH', 'INJURY AND / OR TOW DUE TO CRASH', 'INJURY AND / OR TOW DUE TO CRASH', 'NO INJURY / DRIVE AWAY', 'INJURY AND / OR TOW DUE TO CRASH']\n"
     ]
    }
   ],
   "source": [
    "feature_crashType = df2.select(\"Crash_type\")\n",
    "# Extract the values from the selected column using rdd.map\n",
    "rdd_from_crashType = feature_crashType.rdd.map(lambda row: row[0])\n",
    "\n",
    "# Display the top 10 records\n",
    "print(\"Top 10 Records from Crash Type:\")\n",
    "print(rdd_from_crashType.take(10))"
   ]
  },
  {
   "cell_type": "markdown",
   "metadata": {
    "application/vnd.databricks.v1+cell": {
     "cellMetadata": {
      "byteLimit": 2048000,
      "rowLimit": 10000
     },
     "inputWidgets": {},
     "nuid": "60d4ebcf-6f09-4954-a7d9-fed354d71f40",
     "showTitle": false,
     "title": ""
    }
   },
   "source": [
    "### Extract Lighting Condition and Time of Year Crash Occurred"
   ]
  },
  {
   "cell_type": "code",
   "execution_count": 0,
   "metadata": {
    "application/vnd.databricks.v1+cell": {
     "cellMetadata": {
      "byteLimit": 2048000,
      "rowLimit": 10000
     },
     "inputWidgets": {},
     "nuid": "7a760d2a-2c76-4244-bfca-4e1e1e33d44a",
     "showTitle": false,
     "title": ""
    }
   },
   "outputs": [
    {
     "output_type": "stream",
     "name": "stdout",
     "output_type": "stream",
     "text": [
      "First 10 Records from Crash Date and Time:\n['2023-11-26T22:50:00.000', '2023-11-26T21:46:00.000', '2023-11-26T21:25:00.000', '2023-11-26T21:00:00.000', '2023-11-26T21:00:00.000', '2023-11-26T20:40:00.000', '2023-11-26T20:33:00.000', '2023-11-26T20:30:00.000', '2023-11-26T20:20:00.000', '2023-11-26T20:14:00.000']\nFirst 10 Records from Lighting Condition:\n['DARKNESS, LIGHTED ROAD', 'UNKNOWN', 'DARKNESS, LIGHTED ROAD', 'DARKNESS, LIGHTED ROAD', 'DARKNESS, LIGHTED ROAD', 'DARKNESS, LIGHTED ROAD', 'DARKNESS, LIGHTED ROAD', 'DARKNESS, LIGHTED ROAD', 'UNKNOWN', 'DARKNESS, LIGHTED ROAD']\n"
     ]
    }
   ],
   "source": [
    "feature_crashDate = df2.select(\"Crash_date\")\n",
    "# Extract the values from the selected column using rdd.map\n",
    "rdd_from_crashDate = feature_crashDate.rdd.map(lambda row: row[0])\n",
    "\n",
    "feature_lighting = df2.select(\"Lighting_condition\")\n",
    "rdd_from_lighting = feature_lighting.rdd.map(lambda row: row[0]) \n",
    "\n",
    "# Display the top 10 records\n",
    "print(\"First 10 Records from Crash Date and Time:\")\n",
    "print(rdd_from_crashDate.take(10))\n",
    "\n",
    "print(\"First 10 Records from Lighting Condition:\")\n",
    "print(rdd_from_lighting.take(10))"
   ]
  },
  {
   "cell_type": "markdown",
   "metadata": {
    "application/vnd.databricks.v1+cell": {
     "cellMetadata": {
      "byteLimit": 2048000,
      "rowLimit": 10000
     },
     "inputWidgets": {},
     "nuid": "085c3c0c-0607-41a3-be18-090febb9513f",
     "showTitle": false,
     "title": ""
    }
   },
   "source": [
    "### Extract Longitude and Latitude"
   ]
  },
  {
   "cell_type": "code",
   "execution_count": 0,
   "metadata": {
    "application/vnd.databricks.v1+cell": {
     "cellMetadata": {
      "byteLimit": 2048000,
      "rowLimit": 10000
     },
     "inputWidgets": {},
     "nuid": "b83f3caf-2837-4470-8a0a-02eca010d691",
     "showTitle": false,
     "title": ""
    }
   },
   "outputs": [
    {
     "output_type": "stream",
     "name": "stdout",
     "output_type": "stream",
     "text": [
      "First 10 Records from Longitude:\n['-87.715260845', '-87.597853029', '-87.585086454', '-87.630845188', '-87.63285766', '-87.633356364', '-87.633988101', '-87.762641644', '-87.527491945', '-87.726071484']\nFirst 10 Records from Latitude:\n['41.767951147', '41.659434298', '41.737030992', '41.748908764', '41.896678875', '41.885840747', '41.716236015', '41.892834466', '41.65170129', '41.889771263']\n"
     ]
    }
   ],
   "source": [
    "feature_longitude = df2.select(\"Longitude\")\n",
    "# Extract the values from the selected column using rdd.map\n",
    "rdd_from_longitude = feature_longitude.rdd.map(lambda row: row[0])\n",
    "\n",
    "feature_latitude = df2.select(\"Latitude\")\n",
    "rdd_from_latitude = feature_latitude.rdd.map(lambda row: row[0]) \n",
    "\n",
    "# Display the first 10 records\n",
    "print(\"First 10 Records from Longitude:\")\n",
    "print(rdd_from_longitude.take(10))\n",
    "\n",
    "print(\"First 10 Records from Latitude:\")\n",
    "print(rdd_from_latitude.take(10))"
   ]
  },
  {
   "cell_type": "markdown",
   "metadata": {
    "application/vnd.databricks.v1+cell": {
     "cellMetadata": {
      "byteLimit": 2048000,
      "rowLimit": 10000
     },
     "inputWidgets": {},
     "nuid": "a9fad5a2-1613-4cec-ae8e-1d128510cfbf",
     "showTitle": false,
     "title": ""
    }
   },
   "source": [
    "### Create RDD of wanted features"
   ]
  },
  {
   "cell_type": "code",
   "execution_count": 0,
   "metadata": {
    "application/vnd.databricks.v1+cell": {
     "cellMetadata": {
      "byteLimit": 2048000,
      "rowLimit": 10000
     },
     "inputWidgets": {},
     "nuid": "1d16fd3f-6dba-4801-8d28-537a47d1759f",
     "showTitle": false,
     "title": ""
    }
   },
   "outputs": [
    {
     "output_type": "stream",
     "name": "stdout",
     "output_type": "stream",
     "text": [
      "+--------------------+---------+-----------------+--------------------+--------------------+-------------+------------+\n|          Crash_type|num_units|Weather_condition|          Crash_date|  Most_severe_injury|    Longitude|    Latitude|\n+--------------------+---------+-----------------+--------------------+--------------------+-------------+------------+\n|NO INJURY / DRIVE...|        2|            CLEAR|2023-11-26T22:50:...|NO INDICATION OF ...|-87.715260845|41.767951147|\n+--------------------+---------+-----------------+--------------------+--------------------+-------------+------------+\nonly showing top 1 row\n\n"
     ]
    }
   ],
   "source": [
    "wanted_columns = df2.select(\"Crash_type\",\"num_units\",\"Weather_condition\",\"Crash_date\",\"Most_severe_injury\",\"Longitude\",\"Latitude\")\n",
    "wanted_columns.show(1)\n",
    "rdd_of_features = wanted_columns.rdd.map(lambda row:[row[0],row[1],row[2],row[3],row[4],row[5],row[6]])\n"
   ]
  },
  {
   "cell_type": "markdown",
   "metadata": {
    "application/vnd.databricks.v1+cell": {
     "cellMetadata": {
      "byteLimit": 2048000,
      "rowLimit": 10000
     },
     "inputWidgets": {},
     "nuid": "04cf460a-c0c5-4d25-b736-79f06b69fc19",
     "showTitle": false,
     "title": ""
    }
   },
   "source": [
    "### Remove all rows where the content of one of the fields is unknown"
   ]
  },
  {
   "cell_type": "code",
   "execution_count": 0,
   "metadata": {
    "application/vnd.databricks.v1+cell": {
     "cellMetadata": {
      "byteLimit": 2048000,
      "rowLimit": 10000
     },
     "inputWidgets": {},
     "nuid": "bd8e8d5e-837d-4d7f-b335-4099e24b27db",
     "showTitle": false,
     "title": ""
    }
   },
   "outputs": [
    {
     "output_type": "stream",
     "name": "stdout",
     "output_type": "stream",
     "text": [
      "1000\n892\n"
     ]
    }
   ],
   "source": [
    "print(rdd_of_features.count())\n",
    "#row[0] = Crash_type, row[2] = Weather_condition,  row[4]= Most_severe_injury\n",
    "cleaned_data_rdd = rdd_of_features.filter(lambda row: row[0]!=\"UNKNOWN\"  and row[2]!=\"UNKNOWN\"  and row[4]!=\"UNKNOWN\" and row[5] != None and row[6] != None and row[0] != None and row[1] != None and row[2] != None and row[3] != None and row[4] != None)\n",
    "print(cleaned_data_rdd.count())"
   ]
  },
  {
   "cell_type": "markdown",
   "metadata": {
    "application/vnd.databricks.v1+cell": {
     "cellMetadata": {
      "byteLimit": 2048000,
      "rowLimit": 10000
     },
     "inputWidgets": {},
     "nuid": "db499f2b-8f48-4a7d-8fb7-b399b739179d",
     "showTitle": false,
     "title": ""
    }
   },
   "source": [
    "### Create Dataframe from RDD and get it ready for regression"
   ]
  },
  {
   "cell_type": "code",
   "execution_count": 0,
   "metadata": {
    "application/vnd.databricks.v1+cell": {
     "cellMetadata": {
      "byteLimit": 2048000,
      "rowLimit": 10000
     },
     "inputWidgets": {},
     "nuid": "5b6a14eb-205d-441d-884b-f6aba0d71546",
     "showTitle": false,
     "title": ""
    }
   },
   "outputs": [
    {
     "output_type": "stream",
     "name": "stdout",
     "output_type": "stream",
     "text": [
      "[('_1', 'string'), ('_2', 'string'), ('_3', 'string'), ('_4', 'string'), ('_5', 'string'), ('_6', 'string'), ('_7', 'string')]\n[('_1', 'string'), ('_2', 'double'), ('_3', 'string'), ('_4', 'string'), ('_5', 'string'), ('_6', 'double'), ('_7', 'double')]\n"
     ]
    },
    {
     "output_type": "display_data",
     "data": {
      "application/vnd.jupyter.widget-view+json": {
       "model_id": "2cb7130f3f59481f8d07bf5af3439e67",
       "version_major": 2,
       "version_minor": 0
      },
      "text/plain": [
       "Downloading artifacts:   0%|          | 0/30 [00:00<?, ?it/s]"
      ]
     },
     "metadata": {},
     "output_type": "display_data"
    },
    {
     "output_type": "display_data",
     "data": {
      "application/vnd.jupyter.widget-view+json": {
       "model_id": "a3a4b0bfbf1343cd9cf219ff427d1252",
       "version_major": 2,
       "version_minor": 0
      },
      "text/plain": [
       "Uploading artifacts:   0%|          | 0/4 [00:00<?, ?it/s]"
      ]
     },
     "metadata": {},
     "output_type": "display_data"
    },
    {
     "output_type": "stream",
     "name": "stdout",
     "output_type": "stream",
     "text": [
      "+--------------------+---+-----+--------------------+--------------------+-------------+------------+--------+--------+--------+--------+\n|                  _1| _2|   _3|                  _4|                  _5|           _6|          _7|_1_index|_3_index|_4_index|_5_index|\n+--------------------+---+-----+--------------------+--------------------+-------------+------------+--------+--------+--------+--------+\n|NO INJURY / DRIVE...|2.0|CLEAR|2023-11-26T22:50:...|NO INDICATION OF ...|-87.715260845|41.767951147|     0.0|     0.0|   705.0|     0.0|\n|INJURY AND / OR T...|2.0|CLEAR|2023-11-26T21:46:...|NONINCAPACITATING...|-87.597853029|41.659434298|     1.0|     0.0|   704.0|     1.0|\n|INJURY AND / OR T...|2.0|CLEAR|2023-11-26T21:25:...|INCAPACITATING IN...|-87.585086454|41.737030992|     1.0|     0.0|   703.0|     3.0|\n|NO INJURY / DRIVE...|2.0|CLEAR|2023-11-26T21:00:...|NO INDICATION OF ...|-87.630845188|41.748908764|     0.0|     0.0|   118.0|     0.0|\n|NO INJURY / DRIVE...|2.0|CLEAR|2023-11-26T21:00:...|NO INDICATION OF ...| -87.63285766|41.896678875|     0.0|     0.0|   118.0|     0.0|\n+--------------------+---+-----+--------------------+--------------------+-------------+------------+--------+--------+--------+--------+\nonly showing top 5 rows\n\n"
     ]
    }
   ],
   "source": [
    "from pyspark.ml.regression import LinearRegression\n",
    "from pyspark.ml.feature import StringIndexer\n",
    "from pyspark.ml import Pipeline\n",
    "from pyspark.sql.functions import col\n",
    "\n",
    "cleaned_data_df = spark.createDataFrame(cleaned_data_rdd)\n",
    "\n",
    "#_1 = Crash_type, _2 = numUnits, _3 = weather, _4 = time, _5 = injury severity, _6 = longitude, _7 = latitude\n",
    "print(cleaned_data_df.dtypes)\n",
    "numeric_cols = [\"_2\", \"_6\", \"_7\"]\n",
    "for col_name in numeric_cols:    \n",
    "    cleaned_data_df = cleaned_data_df.withColumn(col_name, col(col_name).cast(\"double\"))\n",
    "print(cleaned_data_df.dtypes)\n",
    "\n",
    "string_cols = [\"_1\", \"_3\", \"_4\", \"_5\"]\n",
    "indexers = [StringIndexer(inputCol=column, outputCol=column+\"_index\").fit(cleaned_data_df) for column in string_cols ]\n",
    "\n",
    "pipeline = Pipeline(stages=indexers)\n",
    "indexed_df = pipeline.fit(cleaned_data_df).transform(cleaned_data_df)\n",
    "indexed_df.show(5)"
   ]
  },
  {
   "cell_type": "markdown",
   "metadata": {
    "application/vnd.databricks.v1+cell": {
     "cellMetadata": {
      "byteLimit": 2048000,
      "rowLimit": 10000
     },
     "inputWidgets": {},
     "nuid": "8ed6c6f0-fd0f-475a-ab65-e88e743030ed",
     "showTitle": false,
     "title": ""
    }
   },
   "source": [
    "### Apply linear regression"
   ]
  },
  {
   "cell_type": "code",
   "execution_count": 0,
   "metadata": {
    "application/vnd.databricks.v1+cell": {
     "cellMetadata": {
      "byteLimit": 2048000,
      "rowLimit": 10000
     },
     "inputWidgets": {},
     "nuid": "dd9ce51d-35bf-44fa-af66-7d6bc43af134",
     "showTitle": false,
     "title": ""
    }
   },
   "outputs": [
    {
     "output_type": "display_data",
     "data": {
      "application/vnd.jupyter.widget-view+json": {
       "model_id": "814faa0786b947a99a27cc33433c8e65",
       "version_major": 2,
       "version_minor": 0
      },
      "text/plain": [
       "Downloading artifacts:   0%|          | 0/9 [00:00<?, ?it/s]"
      ]
     },
     "metadata": {},
     "output_type": "display_data"
    },
    {
     "output_type": "display_data",
     "data": {
      "application/vnd.jupyter.widget-view+json": {
       "model_id": "49553c5611134d23b76a65cda72ccf17",
       "version_major": 2,
       "version_minor": 0
      },
      "text/plain": [
       "Uploading artifacts:   0%|          | 0/4 [00:00<?, ?it/s]"
      ]
     },
     "metadata": {},
     "output_type": "display_data"
    },
    {
     "output_type": "stream",
     "name": "stdout",
     "output_type": "stream",
     "text": [
      "0.01601063944292369\n0.003598011485886745\n0.04888741395890051\n"
     ]
    }
   ],
   "source": [
    "from pyspark.ml.feature import VectorAssembler\n",
    "from pyspark.ml.evaluation import RegressionEvaluator\n",
    "\n",
    "feature_assembler = VectorAssembler(inputCols = [\"_1_index\",\"_2\",\"_3_index\",\"_4_index\",\"_5_index\"], outputCol = \"Independent Features\")\n",
    "\n",
    "output = feature_assembler.transform(indexed_df)\n",
    "#output.select(\"Independent Features\").show()\n",
    "\n",
    "finalised_data = output.select(\"Independent Features\", \"_6\")\n",
    "\n",
    "train_data, test_data = finalised_data.randomSplit([0.8, 0.2])\n",
    "\n",
    "regressor = LinearRegression(featuresCol = 'Independent Features', labelCol = '_6')\n",
    "trained_model = regressor.fit(train_data)\n",
    "\n",
    "results = trained_model.evaluate(train_data)\n",
    "print(results.r2) #closer to 1, better it is\n",
    "print(results.meanSquaredError)\n",
    "print(results.meanAbsoluteError)\n",
    "\n",
    "predictions = trained_model.transform(test_data)"
   ]
  },
  {
   "cell_type": "code",
   "execution_count": 0,
   "metadata": {
    "application/vnd.databricks.v1+cell": {
     "cellMetadata": {
      "byteLimit": 2048000,
      "rowLimit": 10000
     },
     "inputWidgets": {},
     "nuid": "f6411646-04e4-497f-b24c-4607c89d6280",
     "showTitle": false,
     "title": ""
    }
   },
   "outputs": [
    {
     "output_type": "stream",
     "name": "stdout",
     "output_type": "stream",
     "text": [
      "Longitude actual vs predicted\n+-----------------+-------------+\n|       prediction|       actual|\n+-----------------+-------------+\n|-87.6936719770031|-87.715260845|\n|-87.6936719770031|-87.597853029|\n|-87.6936719770031|-87.585086454|\n|-87.6936719770031|-87.630845188|\n|-87.6936719770031| -87.63285766|\n|-87.6936719770031|-87.633356364|\n|-87.6936719770031|-87.633988101|\n|-87.6936719770031|-87.726071484|\n|-87.6936719770031|-87.626944185|\n|-87.6936719770031|-87.752809814|\n|-87.6936719770031|-87.634042511|\n|-87.6936719770031|-87.707841584|\n|-87.6936719770031|-87.728783821|\n|-87.6936719770031|-87.580854271|\n|-87.6936719770031|-87.714068537|\n|-87.6936719770031|-87.647565569|\n|-87.6936719770031|-87.722639835|\n|-87.6936719770031|-87.703493141|\n|-87.6936719770031|-87.647275129|\n|-87.6936719770031|-87.653483175|\n+-----------------+-------------+\nonly showing top 20 rows\n\n"
     ]
    }
   ],
   "source": [
    "print (\"Longitude actual vs predicted\")\n",
    "pred = predictions.select(\"prediction\")\n",
    "act = finalised_data.select(\"_6\").withColumnRenamed(\"_6\",\"actual\")\n",
    "act_vs_pred = pred.join(act)\n",
    "act_vs_pred.show()"
   ]
  },
  {
   "cell_type": "code",
   "execution_count": 0,
   "metadata": {
    "application/vnd.databricks.v1+cell": {
     "cellMetadata": {
      "byteLimit": 2048000,
      "rowLimit": 10000
     },
     "inputWidgets": {},
     "nuid": "a5ef36db-9ece-432b-85f1-7b3efe23097f",
     "showTitle": false,
     "title": ""
    }
   },
   "outputs": [
    {
     "output_type": "display_data",
     "data": {
      "application/vnd.jupyter.widget-view+json": {
       "model_id": "7c513292e98144c6bc74a26c9715ec1c",
       "version_major": 2,
       "version_minor": 0
      },
      "text/plain": [
       "Downloading artifacts:   0%|          | 0/9 [00:00<?, ?it/s]"
      ]
     },
     "metadata": {},
     "output_type": "display_data"
    },
    {
     "output_type": "display_data",
     "data": {
      "application/vnd.jupyter.widget-view+json": {
       "model_id": "a24d870161e9476ca23c02cbdaf58ed0",
       "version_major": 2,
       "version_minor": 0
      },
      "text/plain": [
       "Uploading artifacts:   0%|          | 0/4 [00:00<?, ?it/s]"
      ]
     },
     "metadata": {},
     "output_type": "display_data"
    },
    {
     "output_type": "stream",
     "name": "stdout",
     "output_type": "stream",
     "text": [
      "0.009355288681948126\n0.0074181203434875035\n0.07428601709575482\n"
     ]
    }
   ],
   "source": [
    "from pyspark.ml.evaluation import RegressionEvaluator\n",
    "finalised_data = output.select(\"Independent Features\", \"_7\")\n",
    "\n",
    "train_data, test_data = finalised_data.randomSplit([0.8, 0.2])\n",
    "\n",
    "regressor = LinearRegression(featuresCol = 'Independent Features', labelCol = '_7')\n",
    "trained_model = regressor.fit(train_data)\n",
    "\n",
    "results = trained_model.evaluate(train_data)\n",
    "print(results.r2) #closer to 1, better it is\n",
    "print(results.meanSquaredError)\n",
    "print(results.meanAbsoluteError)\n",
    "\n",
    "predictions = trained_model.transform(test_data)\n"
   ]
  },
  {
   "cell_type": "code",
   "execution_count": 0,
   "metadata": {
    "application/vnd.databricks.v1+cell": {
     "cellMetadata": {
      "byteLimit": 2048000,
      "rowLimit": 10000
     },
     "inputWidgets": {},
     "nuid": "3bf63244-c82a-4542-ae10-0352dc0d4660",
     "showTitle": false,
     "title": ""
    }
   },
   "outputs": [
    {
     "output_type": "stream",
     "name": "stdout",
     "output_type": "stream",
     "text": [
      "Latitude actual vs predicted\n+-----------------+------------+\n|       prediction|      actual|\n+-----------------+------------+\n|41.86778850796988|41.767951147|\n|41.86778850796988|41.659434298|\n|41.86778850796988|41.737030992|\n|41.86778850796988|41.748908764|\n|41.86778850796988|41.896678875|\n|41.86778850796988|41.885840747|\n|41.86778850796988|41.716236015|\n|41.86778850796988|41.889771263|\n|41.86778850796988|41.853058661|\n|41.86778850796988|41.874080494|\n|41.86778850796988|41.887040881|\n|41.86778850796988|41.990811419|\n|41.86778850796988|41.997129423|\n|41.86778850796988|41.707849555|\n|41.86778850796988|41.775946359|\n|41.86778850796988|41.883800588|\n|41.86778850796988|41.771482784|\n|41.86778850796988|41.786155308|\n|41.86778850796988|41.883922894|\n|41.86778850796988|41.923447364|\n|41.86778850796988|41.853019479|\n|41.86778850796988| 41.74579217|\n|41.86778850796988|41.950199482|\n|41.86778850796988|41.896903533|\n|41.86778850796988|41.912254431|\n|41.86778850796988|41.771382503|\n|41.86778850796988|41.758484888|\n|41.86778850796988|41.795833604|\n|41.86778850796988|41.816493491|\n|41.86778850796988|41.973500083|\n|41.86778850796988|41.965435189|\n|41.86778850796988|41.960731356|\n|41.86778850796988|41.976294886|\n|41.86778850796988|41.910465401|\n|41.86778850796988|41.777019464|\n|41.86778850796988|41.831995499|\n|41.86778850796988| 41.91005042|\n|41.86778850796988|41.918540769|\n|41.86778850796988|41.903789585|\n|41.86778850796988|41.792972907|\n|41.86778850796988|41.772572328|\n|41.86778850796988|41.798045949|\n|41.86778850796988| 41.91693959|\n|41.86778850796988|41.769643678|\n|41.86778850796988|41.807993845|\n|41.86778850796988|41.931021006|\n|41.86778850796988|41.717537435|\n|41.86778850796988|41.896264842|\n|41.86778850796988|41.903467448|\n|41.86778850796988|41.904024731|\n|41.86778850796988|41.799575049|\n|41.86778850796988|41.767891721|\n|41.86778850796988|41.819030696|\n|41.86778850796988|41.708648274|\n|41.86778850796988|41.938447822|\n|41.86778850796988|41.770886041|\n|41.86778850796988|41.838152546|\n|41.86778850796988|41.802365973|\n|41.86778850796988|41.815751486|\n|41.86778850796988|41.881761494|\n|41.86778850796988|  41.9394581|\n|41.86778850796988|41.954712704|\n|41.86778850796988|41.880964065|\n|41.86778850796988|41.837146693|\n|41.86778850796988|41.830691716|\n|41.86778850796988|41.933353249|\n|41.86778850796988|41.792826738|\n|41.86778850796988|41.907076193|\n|41.86778850796988|41.903698308|\n|41.86778850796988|41.748149021|\n|41.86778850796988|  41.9059755|\n|41.86778850796988|41.972994218|\n|41.86778850796988|41.968990729|\n|41.86778850796988|41.909669676|\n|41.86778850796988|41.836720547|\n|41.86778850796988|41.819030696|\n|41.86778850796988|41.885639561|\n|41.86778850796988|41.945937926|\n|41.86778850796988|41.968134284|\n|41.86778850796988| 41.95218264|\n|41.86778850796988| 41.78031747|\n|41.86778850796988|  41.6852445|\n|41.86778850796988|41.927660351|\n|41.86778850796988|41.871196327|\n|41.86778850796988|41.750891582|\n|41.86778850796988|41.746710362|\n|41.86778850796988|41.837966967|\n|41.86778850796988|42.010367146|\n|41.86778850796988|41.994461755|\n|41.86778850796988|41.777644994|\n|41.86778850796988|41.685453352|\n|41.86778850796988| 41.73616511|\n|41.86778850796988|41.960595458|\n|41.86778850796988|41.690158412|\n|41.86778850796988|41.808315829|\n|41.86778850796988|41.841428717|\n|41.86778850796988|41.757040589|\n|41.86778850796988| 41.90579384|\n|41.86778850796988|41.880619347|\n|41.86778850796988|41.786669989|\n|41.86778850796988|41.937332034|\n|41.86778850796988|41.886236407|\n|41.86778850796988|41.942073517|\n|41.86778850796988|41.997018918|\n|41.86778850796988|41.944530999|\n|41.86778850796988|41.801305804|\n|41.86778850796988|41.736589249|\n|41.86778850796988|41.809439653|\n|41.86778850796988|41.940800115|\n|41.86778850796988|41.816729387|\n|41.86778850796988|41.881072656|\n|41.86778850796988|41.842703341|\n|41.86778850796988|41.710603847|\n|41.86778850796988|41.759527524|\n|41.86778850796988|41.939440561|\n|41.86778850796988|41.872820933|\n|41.86778850796988|41.901241886|\n|41.86778850796988|41.937524967|\n|41.86778850796988|41.954740337|\n|41.86778850796988|41.990428761|\n|41.86778850796988|41.916701927|\n|41.86778850796988| 41.90997501|\n|41.86778850796988|41.909973601|\n|41.86778850796988|41.780159086|\n|41.86778850796988|41.827624667|\n|41.86778850796988|41.740457864|\n|41.86778850796988|41.854885866|\n|41.86778850796988|41.852436357|\n|41.86778850796988|41.910786719|\n|41.86778850796988|41.750534981|\n|41.86778850796988|41.736940846|\n|41.86778850796988|41.886594469|\n|41.86778850796988|41.823220707|\n|41.86778850796988|41.736281754|\n|41.86778850796988|41.807417197|\n|41.86778850796988|41.765321012|\n|41.86778850796988|41.823281181|\n|41.86778850796988|41.768619162|\n|41.86778850796988| 41.64476688|\n|41.86778850796988|41.742061303|\n|41.86778850796988|41.771884028|\n|41.86778850796988|41.997281682|\n|41.86778850796988| 41.78630826|\n|41.86778850796988|41.878139712|\n|41.86778850796988|41.909482191|\n|41.86778850796988|41.735722688|\n|41.86778850796988|41.798672033|\n|41.86778850796988|41.892410666|\n|41.86778850796988|41.987213279|\n|41.86778850796988| 41.76265654|\n|41.86778850796988|41.719112771|\n|41.86778850796988|41.757948697|\n|41.86778850796988|41.779684881|\n|41.86778850796988|41.981576491|\n|41.86778850796988|41.836956708|\n|41.86778850796988|41.923890619|\n|41.86778850796988|41.871264433|\n|41.86778850796988|41.699797397|\n|41.86778850796988|41.783704024|\n|41.86778850796988|41.871600329|\n|41.86778850796988|41.818456676|\n|41.86778850796988|41.924209262|\n|41.86778850796988|41.999357624|\n|41.86778850796988|41.840053331|\n|41.86778850796988|41.896737051|\n|41.86778850796988|41.765928192|\n|41.86778850796988|41.895161353|\n|41.86778850796988|41.769228411|\n|41.86778850796988|41.844530613|\n|41.86778850796988|41.794638826|\n|41.86778850796988|41.910670457|\n|41.86778850796988|41.758314649|\n|41.86778850796988|41.720821741|\n|41.86778850796988| 41.88333617|\n|41.86778850796988|41.778700241|\n|41.86778850796988|41.741311664|\n|41.86778850796988|41.794065689|\n|41.86778850796988|41.807445662|\n|41.86778850796988|41.953274786|\n|41.86778850796988|41.982289776|\n|41.86778850796988|41.814224081|\n|41.86778850796988|41.905736512|\n|41.86778850796988|41.750310891|\n|41.86778850796988|41.922985868|\n|41.86778850796988|41.844375377|\n|41.86778850796988|41.701523037|\n|41.86778850796988|41.943102137|\n|41.86778850796988|41.798086083|\n|41.86778850796988|41.797794354|\n|41.86778850796988|41.948130464|\n|41.86778850796988|41.939039013|\n|41.86778850796988|41.967456595|\n|41.86778850796988|41.985189696|\n|41.86778850796988|41.816575921|\n|41.86778850796988|41.837306047|\n|41.86778850796988|41.890520989|\n|41.86778850796988|41.990285535|\n|41.86778850796988|41.886312514|\n|41.86778850796988|41.910374647|\n|41.86778850796988|41.923685828|\n|41.86778850796988| 41.83847351|\n|41.86778850796988|41.993729064|\n|41.86778850796988|41.800744445|\n|41.86778850796988|41.766430893|\n|41.86778850796988|41.730455409|\n|41.86778850796988|41.858173375|\n|41.86778850796988|41.923750201|\n|41.86778850796988|41.909392319|\n|41.86778850796988| 41.73814836|\n|41.86778850796988|41.964857476|\n|41.86778850796988|41.769145122|\n|41.86778850796988| 41.78577575|\n|41.86778850796988|41.895053985|\n|41.86778850796988| 41.86714316|\n|41.86778850796988|41.877985754|\n|41.86778850796988|41.805346107|\n|41.86778850796988|41.911271416|\n|41.86778850796988|41.750310891|\n|41.86778850796988|41.897919744|\n|41.86778850796988|41.940894213|\n|41.86778850796988|41.897615547|\n|41.86778850796988|  41.8813083|\n|41.86778850796988|41.830220226|\n|41.86778850796988|41.899392342|\n|41.86778850796988|41.777282651|\n|41.86778850796988| 41.90942366|\n|41.86778850796988|41.807678994|\n|41.86778850796988|41.809296061|\n|41.86778850796988|41.953292847|\n|41.86778850796988|41.771557757|\n|41.86778850796988|41.765881286|\n|41.86778850796988|41.971917351|\n|41.86778850796988| 41.90845975|\n|41.86778850796988|41.975640877|\n|41.86778850796988|41.956504369|\n|41.86778850796988|41.891590741|\n|41.86778850796988|41.966011401|\n|41.86778850796988|41.958685175|\n|41.86778850796988|41.931688919|\n|41.86778850796988|41.948735967|\n|41.86778850796988|41.938370155|\n|41.86778850796988|42.006588496|\n|41.86778850796988| 41.91874949|\n|41.86778850796988|41.793385488|\n|41.86778850796988|41.877732507|\n|41.86778850796988|41.910403336|\n|41.86778850796988|41.932460035|\n|41.86778850796988|41.721271392|\n|41.86778850796988|41.960259493|\n|41.86778850796988|41.994452763|\n|41.86778850796988| 41.68539921|\n|41.86778850796988|42.010263349|\n|41.86778850796988| 41.88901259|\n|41.86778850796988|41.880139883|\n|41.86778850796988|41.713514268|\n|41.86778850796988|41.877543803|\n|41.86778850796988|41.767790956|\n|41.86778850796988|41.830728826|\n|41.86778850796988|41.812038598|\n|41.86778850796988|41.883108627|\n|41.86778850796988|41.908826163|\n|41.86778850796988|41.899278141|\n|41.86778850796988|41.816193157|\n|41.86778850796988|42.004530982|\n|41.86778850796988|41.925516848|\n|41.86778850796988|41.988533573|\n|41.86778850796988|41.914359278|\n|41.86778850796988| 41.90307392|\n|41.86778850796988|41.949475526|\n|41.86778850796988|41.844157233|\n|41.86778850796988|41.997156863|\n|41.86778850796988|41.844239638|\n|41.86778850796988| 41.76579077|\n|41.86778850796988|41.940241193|\n|41.86778850796988|41.844368309|\n|41.86778850796988|41.744369301|\n|41.86778850796988|41.848324655|\n|41.86778850796988|41.838200594|\n|41.86778850796988|41.713993218|\n|41.86778850796988|41.810560569|\n|41.86778850796988|41.975956087|\n|41.86778850796988|41.960520197|\n|41.86778850796988|41.778560221|\n|41.86778850796988| 41.92436636|\n|41.86778850796988|41.926005042|\n|41.86778850796988|42.013957777|\n|41.86778850796988|41.999297684|\n|41.86778850796988|41.895704525|\n|41.86778850796988|41.847321466|\n|41.86778850796988|41.760730464|\n|41.86778850796988|41.772492963|\n|41.86778850796988|41.869856416|\n|41.86778850796988|41.933548082|\n|41.86778850796988|41.910062722|\n|41.86778850796988|41.896804972|\n|41.86778850796988|41.897389163|\n|41.86778850796988|41.797435179|\n|41.86778850796988|41.734824529|\n|41.86778850796988|41.975223741|\n|41.86778850796988|41.978067519|\n|41.86778850796988|41.938767985|\n|41.86778850796988| 41.93425376|\n|41.86778850796988|41.857530859|\n|41.86778850796988|41.881829819|\n|41.86778850796988|41.889095178|\n|41.86778850796988|41.778678153|\n|41.86778850796988|41.756622225|\n|41.86778850796988|  41.9429645|\n|41.86778850796988|41.898768441|\n|41.86778850796988|41.749345343|\n|41.86778850796988|41.753001246|\n|41.86778850796988|41.895348616|\n|41.86778850796988|41.896804972|\n|41.86778850796988|41.906590546|\n|41.86778850796988|41.805707012|\n|41.86778850796988|41.796240204|\n|41.86778850796988|41.833625494|\n|41.86778850796988|41.771646217|\n|41.86778850796988|41.900670285|\n|41.86778850796988| 41.73505997|\n|41.86778850796988|41.791852065|\n|41.86778850796988|41.867002781|\n|41.86778850796988| 41.89597946|\n|41.86778850796988|41.926784696|\n|41.86778850796988|41.960110555|\n|41.86778850796988|41.988744454|\n|41.86778850796988|41.809290911|\n|41.86778850796988|41.752314833|\n|41.86778850796988|41.946747861|\n|41.86778850796988|41.875174358|\n|41.86778850796988|41.887923076|\n|41.86778850796988|41.881145481|\n|41.86778850796988|41.699362655|\n|41.86778850796988|41.772065709|\n|41.86778850796988|41.756679401|\n|41.86778850796988|41.961988289|\n|41.86778850796988| 41.89118845|\n|41.86778850796988|41.816304417|\n|41.86778850796988|41.836750519|\n|41.86778850796988|41.981230522|\n|41.86778850796988|41.938462307|\n|41.86778850796988|41.796201131|\n|41.86778850796988| 41.95019639|\n|41.86778850796988|41.808539175|\n|41.86778850796988|41.808042504|\n|41.86778850796988|41.938494677|\n|41.86778850796988|41.943936702|\n|41.86778850796988|41.754130799|\n|41.86778850796988|41.923485071|\n|41.86778850796988|41.945995693|\n|41.86778850796988|41.993891676|\n|41.86778850796988|41.947176629|\n|41.86778850796988|41.880302933|\n|41.86778850796988|41.775653945|\n|41.86778850796988| 41.95729105|\n|41.86778850796988|41.799314067|\n|41.86778850796988|41.827368459|\n|41.86778850796988|41.910146135|\n|41.86778850796988|41.875174358|\n|41.86778850796988|41.877535124|\n|41.86778850796988|41.925064062|\n|41.86778850796988|41.998009292|\n|41.86778850796988|41.839049479|\n|41.86778850796988|42.015941514|\n|41.86778850796988|41.780130495|\n|41.86778850796988|41.766353024|\n|41.86778850796988|41.968384802|\n|41.86778850796988|41.891525359|\n|41.86778850796988| 41.68962997|\n|41.86778850796988|41.799373088|\n|41.86778850796988|41.897470294|\n|41.86778850796988|41.808312172|\n|41.86778850796988|41.880676324|\n|41.86778850796988|41.873698456|\n|41.86778850796988|41.885465821|\n|41.86778850796988|41.881928186|\n|41.86778850796988|41.896720114|\n|41.86778850796988|41.909600386|\n|41.86778850796988|41.691924093|\n|41.86778850796988|41.896720114|\n|41.86778850796988|41.909600386|\n|41.86778850796988|41.927315718|\n|41.86778850796988|41.734635416|\n|41.86778850796988|41.957591633|\n|41.86778850796988|41.988721327|\n|41.86778850796988|41.915958956|\n|41.86778850796988|41.924530534|\n|41.86778850796988|  41.9323174|\n|41.86778850796988|41.786983603|\n|41.86778850796988|41.929396386|\n|41.86778850796988|41.874885271|\n|41.86778850796988|41.750120913|\n|41.86778850796988|41.880527822|\n|41.86778850796988|41.899971669|\n|41.86778850796988|41.793909302|\n|41.86778850796988|41.750403779|\n|41.86778850796988|41.765393608|\n|41.86778850796988|41.933327513|\n|41.86778850796988|41.924513104|\n|41.86778850796988| 41.81741987|\n|41.86778850796988|41.760388239|\n|41.86778850796988|41.883488424|\n|41.86778850796988|41.899467608|\n|41.86778850796988|41.777436085|\n|41.86778850796988|41.756598342|\n|41.86778850796988|41.756679401|\n|41.86778850796988|41.746765536|\n|41.86778850796988| 41.89186947|\n|41.86778850796988|41.692860477|\n|41.86778850796988|41.885846166|\n|41.86778850796988|41.927797814|\n|41.86778850796988|41.905254515|\n|41.86778850796988|41.962402568|\n|41.86778850796988|41.751611523|\n|41.86778850796988|41.899875531|\n|41.86778850796988|41.684144082|\n|41.86778850796988|41.990610738|\n|41.86778850796988|41.815938831|\n|41.86778850796988| 41.96298223|\n|41.86778850796988| 41.87556911|\n|41.86778850796988|41.931692751|\n|41.86778850796988|41.869148948|\n|41.86778850796988|41.772927489|\n|41.86778850796988|41.869430953|\n|41.86778850796988|41.952815972|\n|41.86778850796988|41.886210994|\n|41.86778850796988|41.961700131|\n|41.86778850796988|41.887367542|\n|41.86778850796988|41.853472247|\n|41.86778850796988|41.772084848|\n|41.86778850796988|41.836725069|\n|41.86778850796988|41.879394924|\n|41.86778850796988|41.786654178|\n|41.86778850796988|41.904046912|\n|41.86778850796988|41.871197127|\n|41.86778850796988|41.714649679|\n|41.86778850796988|42.007521514|\n|41.86778850796988|41.852615179|\n|41.86778850796988|42.007521514|\n|41.86778850796988|41.915337915|\n|41.86778850796988|41.964295766|\n|41.86778850796988|41.733036676|\n|41.86778850796988|41.777752904|\n|41.86778850796988|41.817079672|\n|41.86778850796988|41.810892675|\n|41.86778850796988|41.878141016|\n|41.86778850796988|41.825211949|\n|41.86778850796988|41.881092331|\n|41.86778850796988|41.778660143|\n|41.86778850796988|41.968454449|\n|41.86778850796988| 41.83790244|\n|41.86778850796988|41.896113867|\n|41.86778850796988|41.999081097|\n|41.86778850796988|41.720947278|\n|41.86778850796988|41.775555482|\n|41.86778850796988|41.776874317|\n|41.86778850796988|41.791616574|\n|41.86778850796988|41.874902561|\n|41.86778850796988|41.645535385|\n|41.86778850796988|41.769430148|\n|41.86778850796988|41.760370243|\n|41.86778850796988|41.968044692|\n|41.86778850796988| 41.75040533|\n|41.86778850796988|41.752011103|\n|41.86778850796988|41.958720257|\n|41.86778850796988|41.774149344|\n|41.86778850796988| 41.76407727|\n|41.86778850796988|41.774861877|\n|41.86778850796988|41.702858266|\n|41.86778850796988|41.773274751|\n|41.86778850796988|41.655310481|\n|41.86778850796988|41.878310135|\n|41.86778850796988|41.658995786|\n|41.86778850796988|41.865700386|\n|41.86778850796988|41.728399093|\n|41.86778850796988|  41.7723617|\n|41.86778850796988|41.990901581|\n|41.86778850796988|41.731591448|\n|41.86778850796988|41.744151639|\n|41.86778850796988|41.890656687|\n|41.86778850796988| 41.73865095|\n|41.86778850796988|41.902836771|\n|41.86778850796988|41.737173759|\n|41.86778850796988|41.927158334|\n|41.86778850796988|41.795871174|\n|41.86778850796988| 41.95665862|\n|41.86778850796988|41.794670385|\n|41.86778850796988|41.743359424|\n|41.86778850796988|41.749315794|\n|41.86778850796988|41.894827462|\n|41.86778850796988|41.677747122|\n|41.86778850796988|41.792088962|\n|41.86778850796988|41.768744341|\n|41.86778850796988|41.960375948|\n|41.86778850796988|41.755644282|\n|41.86778850796988|41.694388392|\n|41.86778850796988|41.945358011|\n|41.86778850796988|41.873624119|\n|41.86778850796988|41.967464725|\n|41.86778850796988|41.881706453|\n|41.86778850796988| 41.74890847|\n|41.86778850796988|41.894706184|\n|41.86778850796988|41.772655335|\n|41.86778850796988|41.735935153|\n|41.86778850796988|41.960937711|\n|41.86778850796988|41.786777871|\n|41.86778850796988|41.989593433|\n|41.86778850796988|41.965202235|\n|41.86778850796988| 41.88574887|\n|41.86778850796988|41.745857623|\n|41.86778850796988|41.703415219|\n|41.86778850796988|41.808389587|\n|41.86778850796988|41.823922712|\n|41.86778850796988|41.711082579|\n|41.86778850796988|41.867593534|\n|41.86778850796988|41.893015951|\n|41.86778850796988|41.895124177|\n|41.86778850796988|41.826555507|\n|41.86778850796988|41.781026529|\n|41.86778850796988| 41.84932157|\n|41.86778850796988|41.745928258|\n|41.86778850796988|41.735696989|\n|41.86778850796988|41.961209902|\n|41.86778850796988|41.961118462|\n|41.86778850796988|41.808321987|\n|41.86778850796988|42.005800308|\n|41.86778850796988|41.713769745|\n|41.86778850796988|41.720403967|\n|41.86778850796988|41.886637489|\n|41.86778850796988|41.910229608|\n|41.86778850796988|41.941258196|\n|41.86778850796988|41.659973142|\n|41.86778850796988|41.805310177|\n|41.86778850796988|41.851288488|\n|41.86778850796988|41.982993342|\n|41.86778850796988|41.754660124|\n|41.86778850796988|41.914568495|\n|41.86778850796988|41.954056714|\n|41.86778850796988|41.813694951|\n|41.86778850796988|41.936312713|\n|41.86778850796988|41.923644362|\n|41.86778850796988|41.744195286|\n|41.86778850796988|42.017091434|\n|41.86778850796988|41.737285572|\n|41.86778850796988|41.828786142|\n|41.86778850796988|41.881333951|\n|41.86778850796988|   41.931718|\n|41.86778850796988|41.909945015|\n|41.86778850796988|41.839448541|\n|41.86778850796988|41.785727736|\n|41.86778850796988|41.844469862|\n|41.86778850796988|41.680332205|\n|41.86778850796988|41.853730428|\n|41.86778850796988| 41.88037344|\n|41.86778850796988|41.764937422|\n|41.86778850796988|41.680161512|\n|41.86778850796988|41.763543001|\n|41.86778850796988|41.878521578|\n|41.86778850796988|41.844577508|\n|41.86778850796988|41.792293399|\n|41.86778850796988|41.778887681|\n|41.86778850796988|41.938480663|\n|41.86778850796988|41.924241066|\n|41.86778850796988|41.690346065|\n|41.86778850796988|41.844438903|\n|41.86778850796988|41.901854223|\n|41.86778850796988|41.753246822|\n|41.86778850796988|41.793269887|\n|41.86778850796988|41.789530633|\n|41.86778850796988|41.857902137|\n|41.86778850796988|41.853997625|\n|41.86778850796988|41.793190067|\n|41.86778850796988|41.736599144|\n|41.86778850796988|41.708205835|\n|41.86778850796988|41.808698515|\n|41.86778850796988|41.736808738|\n|41.86778850796988|41.910364022|\n|41.86778850796988|41.777878666|\n|41.86778850796988|41.750300123|\n|41.86778850796988|41.966578346|\n|41.86778850796988|41.744493833|\n|41.86778850796988|41.863734391|\n|41.86778850796988|41.938677966|\n|41.86778850796988|41.884646365|\n|41.86778850796988|41.841605285|\n|41.86778850796988|41.992085228|\n|41.86778850796988|41.960255526|\n|41.86778850796988|41.973372913|\n|41.86778850796988|41.837622344|\n|41.86778850796988|41.907558301|\n|41.86778850796988|41.854304463|\n|41.86778850796988|41.844318841|\n|41.86778850796988|41.972453936|\n|41.86778850796988|41.969412185|\n|41.86778850796988|41.830187255|\n|41.86778850796988|  41.9030477|\n|41.86778850796988|41.771078116|\n|41.86778850796988|41.734190679|\n|41.86778850796988|41.744151639|\n|41.86778850796988|41.884252507|\n|41.86778850796988|41.939716818|\n|41.86778850796988|41.965509848|\n|41.86778850796988|41.965509848|\n|41.86778850796988|41.885442366|\n|41.86778850796988|41.874652177|\n|41.86778850796988|41.953627923|\n|41.86778850796988|41.857568323|\n|41.86778850796988|41.896678875|\n|41.86778850796988|41.976173787|\n|41.86778850796988|41.944352078|\n|41.86778850796988|41.881241457|\n|41.86778850796988|41.757761477|\n|41.86778850796988|41.949519119|\n|41.86778850796988|41.882422723|\n|41.86778850796988|41.790043969|\n|41.86778850796988|41.997516438|\n|41.86778850796988|41.801896335|\n|41.86778850796988|41.895391563|\n|41.86778850796988|41.699193601|\n|41.86778850796988|41.881241457|\n|41.86778850796988|41.816528587|\n|41.86778850796988| 41.95410626|\n|41.86778850796988|41.768971018|\n|41.86778850796988|41.989882204|\n|41.86778850796988|41.887717071|\n|41.86778850796988|41.975624112|\n|41.86778850796988|41.855347014|\n|41.86778850796988|41.917749158|\n|41.86778850796988|41.953297198|\n|41.86778850796988|41.782518906|\n|41.86778850796988|41.884259651|\n|41.86778850796988|41.876678536|\n|41.86778850796988|41.879591828|\n|41.86778850796988|41.966357357|\n|41.86778850796988|42.012370233|\n|41.86778850796988|41.909265722|\n|41.86778850796988|41.903586959|\n|41.86778850796988|41.943131513|\n|41.86778850796988|42.011883445|\n|41.86778850796988|41.737042973|\n|41.86778850796988|41.886751573|\n|41.86778850796988|41.868950634|\n|41.86778850796988|41.996881898|\n|41.86778850796988|41.692524533|\n|41.86778850796988|41.937148083|\n|41.86778850796988|41.794524384|\n|41.86778850796988|41.766195202|\n|41.86778850796988|41.896117551|\n|41.86778850796988|41.939570412|\n|41.86778850796988|41.736934997|\n|41.86778850796988|41.916097276|\n|41.86778850796988|41.990373699|\n|41.86778850796988|41.751036601|\n|41.86778850796988|41.657184903|\n|41.86778850796988|41.786635582|\n|41.86778850796988|41.880022402|\n|41.86778850796988|41.826370567|\n|41.86778850796988|41.789329323|\n|41.86778850796988|41.831608765|\n|41.86778850796988|41.909775639|\n|41.86778850796988|41.935594069|\n|41.86778850796988|41.879874721|\n|41.86778850796988|41.923870689|\n|41.86778850796988|41.839442312|\n|41.86778850796988|41.891732865|\n|41.86778850796988| 41.73558924|\n|41.86778850796988|41.721284178|\n|41.86778850796988|41.937338437|\n|41.86778850796988|41.924777419|\n|41.86778850796988|41.708842472|\n|41.86778850796988|41.777768668|\n|41.86778850796988| 41.73741813|\n|41.86778850796988|41.721160612|\n|41.86778850796988|41.998070048|\n|41.86778850796988|41.740928386|\n|41.86778850796988|41.929375664|\n|41.86778850796988|41.691592138|\n|41.86778850796988|41.786357319|\n|41.86778850796988|41.854215436|\n|41.86778850796988|41.939170099|\n|41.86778850796988|41.692162004|\n|41.86778850796988|41.691503134|\n|41.86778850796988| 41.71411977|\n|41.86778850796988|41.858053255|\n|41.86778850796988|41.866256765|\n|41.86778850796988|41.994203449|\n|41.86778850796988|41.758715467|\n|41.86778850796988| 41.78120045|\n|41.86778850796988|41.665334737|\n|41.86778850796988|42.004836634|\n|41.86778850796988|41.763100092|\n|41.86778850796988| 41.76979742|\n|41.86778850796988|41.810002833|\n|41.86778850796988|41.903375619|\n|41.86778850796988|41.864524545|\n|41.86778850796988|41.928221907|\n|41.86778850796988| 41.72273739|\n|41.86778850796988|41.880922698|\n|41.86778850796988|41.932483781|\n|41.86778850796988|41.744801389|\n|41.86778850796988|41.837945673|\n|41.86778850796988|41.736323858|\n|41.86778850796988|41.987162632|\n|41.86778850796988|41.749065056|\n|41.86778850796988|41.773565851|\n|41.86778850796988|41.883334279|\n|41.86778850796988|41.786394833|\n|41.86778850796988|41.755911458|\n|41.86778850796988|41.889880759|\n|41.86778850796988|41.743401412|\n|41.86778850796988|41.839771947|\n|41.86778850796988|41.852553004|\n|41.86778850796988| 41.96505016|\n|41.86778850796988|41.886028398|\n|41.86778850796988|41.945993523|\n|41.86778850796988|41.903775811|\n|41.86778850796988|41.747882887|\n|41.86778850796988|41.764937422|\n|41.86778850796988|41.765948318|\n|41.86778850796988|42.005210803|\n|41.86778850796988|41.961871794|\n|41.86778850796988|41.865672411|\n|41.86778850796988|41.738113918|\n|41.86778850796988|41.951490092|\n|41.86778850796988|41.961464285|\n|41.86778850796988|41.877920034|\n|41.86778850796988|41.808565019|\n|41.86778850796988|41.997168744|\n|41.86778850796988|41.972489042|\n|41.86778850796988|42.019452487|\n|41.86778850796988|41.851567827|\n|41.86778850796988| 41.89501777|\n|41.86778850796988|41.953803969|\n|41.86778850796988|41.945805118|\n|41.86778850796988|41.758981613|\n|41.86778850796988|41.931643674|\n|41.86778850796988|41.792910883|\n|41.86778850796988|41.885971395|\n|41.86778850796988|41.946676287|\n|41.86778850796988| 41.85989266|\n|41.86778850796988|41.880417602|\n|41.86778850796988|41.953020516|\n|41.86778850796988|41.948512546|\n|41.86778850796988|41.706307722|\n|41.86778850796988|41.829343195|\n|41.86778850796988|41.943431506|\n|41.86778850796988|41.922268106|\n|41.86778850796988|41.796301091|\n|41.86778850796988|41.885773284|\n|41.86778850796988|41.791648355|\n|41.86778850796988|41.834584707|\n|41.86778850796988|41.786180044|\n|41.86778850796988|41.830187255|\n|41.86778850796988|41.921580567|\n|41.86778850796988| 41.89545594|\n|41.86778850796988|41.896474018|\n|41.86778850796988|41.795174135|\n|41.86778850796988|41.969693264|\n|41.86778850796988|41.910865686|\n|41.86778850796988|41.990336639|\n|41.86778850796988|41.797279245|\n|41.86778850796988|41.852100653|\n|41.86778850796988|41.894984937|\n|41.86778850796988|41.996283211|\n|41.86778850796988|41.713304177|\n|41.86778850796988|41.728908843|\n|41.86778850796988|42.008313942|\n|41.86778850796988|41.887027955|\n|41.86778850796988|41.934853944|\n|41.86778850796988| 41.96331871|\n|41.86778850796988| 41.98036844|\n|41.86778850796988|41.882019406|\n|41.86778850796988|41.882035159|\n|41.86778850796988|41.881069374|\n|41.86778850796988|41.952769719|\n|41.86778850796988|41.852151232|\n|41.86778850796988|41.974647998|\n|41.86778850796988|41.808078736|\n|41.86778850796988|41.765020527|\n|41.86778850796988|41.909764527|\n|41.86778850796988|41.965825031|\n|41.86778850796988|41.850490162|\n|41.86778850796988|41.911224556|\n|41.86778850796988| 41.82343237|\n|41.86778850796988|41.867387914|\n|41.86778850796988| 41.91098174|\n|41.86778850796988|41.874205746|\n|41.86778850796988|41.910806446|\n|41.86778850796988|41.954120583|\n|41.86778850796988|41.968312212|\n|41.86778850796988|41.997683754|\n|41.86778850796988| 41.89545594|\n|41.86778850796988|41.911735872|\n|41.86778850796988|41.803347196|\n|41.86778850796988|41.883074523|\n|41.86778850796988|41.930833915|\n|41.86778850796988|41.754660124|\n|41.86778850796988|41.745543872|\n|41.86778850796988|41.962370664|\n|41.86778850796988|41.736541701|\n|41.86778850796988|41.983007992|\n|41.86778850796988|41.722257273|\n|41.86778850796988|41.933338391|\n|41.86778850796988|41.812017027|\n|41.86778850796988|41.972947408|\n|41.86778850796988|42.004184737|\n|41.86778850796988|41.905265256|\n|41.86778850796988|41.808565019|\n|41.86778850796988|41.822671999|\n|41.86778850796988|41.905850394|\n|41.86778850796988|42.001961807|\n|41.86778850796988|41.923485071|\n|41.86778850796988|41.792425779|\n|41.86778850796988|41.815011742|\n|41.86778850796988|41.966441437|\n|41.86778850796988|41.857835373|\n|41.86778850796988|41.859334847|\n|41.86778850796988|41.996510757|\n|41.86778850796988|41.837038577|\n|41.86778850796988|41.910103251|\n|41.86778850796988|41.829780128|\n|41.86778850796988|41.910865686|\n|41.86778850796988|41.943160946|\n|41.86778850796988|41.941915788|\n|41.86778850796988| 41.66337278|\n|41.86778850796988|41.902641105|\n|41.86778850796988|41.865605627|\n|41.86778850796988|41.870178998|\n|41.86778850796988|41.775508799|\n|41.86778850796988|41.889921716|\n|41.86778850796988|41.769956977|\n|41.86778850796988|41.976201139|\n|41.86778850796988|41.809095821|\n|41.86778850796988|41.818017949|\n|41.86778850796988|41.878585938|\n|41.86778850796988|41.872899522|\n|41.86778850796988| 41.75633481|\n|41.86778850796988|41.978289872|\n|41.86778850796988|41.801450146|\n|41.86778850796988|41.946161269|\n|41.86778850796988|41.923994137|\n|41.86778850796988|41.883079908|\n|41.86778850796988|41.727288038|\n|41.86778850796988|41.736662284|\n|41.86778850796988|41.945321962|\n|41.86778850796988|41.828146765|\n|41.86778850796988|41.763607449|\n|41.86778850796988|41.865725812|\n|41.86778850796988|41.755271379|\n|41.86778850796988|41.968838692|\n|41.86778850796988|41.748979065|\n|41.86778850796988|41.932520521|\n|41.86778850796988|42.007706475|\n|41.86778850796988|41.751374686|\n|41.86778850796988|41.745775042|\n|41.86778850796988|41.772320473|\n|41.86778850796988|41.946613704|\n|41.86778850796988|41.968670226|\n|41.86778850796988|41.947172239|\n|41.86778850796988|41.997754789|\n|41.86778850796988|41.899259476|\n|41.86778850796988| 41.88521559|\n|41.86778850796988|41.921488876|\n|41.86778850796988|41.736314993|\n|41.86778850796988|41.924467584|\n|41.86778850796988|41.910521272|\n|41.86778850796988|41.989258322|\n|41.86778850796988|41.751267973|\n|41.86778850796988|41.981406678|\n|41.86778850796988| 41.92239875|\n|41.86778850796988|41.913483316|\n|41.86778850796988|41.719735537|\n|41.86778850796988|41.953272751|\n|41.86778850796988|41.874258577|\n|41.86778850796988|41.764933541|\n|41.86778850796988|  41.7215669|\n|41.86778850796988|41.800200683|\n|41.86778850796988|42.017190965|\n|41.86778850796988|41.970174294|\n|41.86778850796988|41.702656864|\n|41.86778850796988|41.840470833|\n|41.86778850796988|41.911954525|\n|41.86778850796988|41.997161473|\n|41.86778850796988|41.905752599|\n|41.86778850796988|41.968403357|\n|41.86778850796988|41.660225237|\n|41.86778850796988|41.801664494|\n|41.86778850796988|41.785649989|\n|41.86778850796988|41.817150636|\n|41.86778850796988|41.918300195|\n|41.86778850796988|41.880460397|\n|41.86778850796988| 41.97643192|\n| 41.8635953931176|41.767951147|\n| 41.8635953931176|41.659434298|\n| 41.8635953931176|41.737030992|\n| 41.8635953931176|41.748908764|\n| 41.8635953931176|41.896678875|\n| 41.8635953931176|41.885840747|\n| 41.8635953931176|41.716236015|\n| 41.8635953931176|41.889771263|\n| 41.8635953931176|41.853058661|\n| 41.8635953931176|41.874080494|\n| 41.8635953931176|41.887040881|\n| 41.8635953931176|41.990811419|\n| 41.8635953931176|41.997129423|\n| 41.8635953931176|41.707849555|\n| 41.8635953931176|41.775946359|\n| 41.8635953931176|41.883800588|\n| 41.8635953931176|41.771482784|\n| 41.8635953931176|41.786155308|\n| 41.8635953931176|41.883922894|\n| 41.8635953931176|41.923447364|\n| 41.8635953931176|41.853019479|\n| 41.8635953931176| 41.74579217|\n| 41.8635953931176|41.950199482|\n| 41.8635953931176|41.896903533|\n| 41.8635953931176|41.912254431|\n| 41.8635953931176|41.771382503|\n| 41.8635953931176|41.758484888|\n| 41.8635953931176|41.795833604|\n| 41.8635953931176|41.816493491|\n| 41.8635953931176|41.973500083|\n| 41.8635953931176|41.965435189|\n| 41.8635953931176|41.960731356|\n| 41.8635953931176|41.976294886|\n| 41.8635953931176|41.910465401|\n| 41.8635953931176|41.777019464|\n| 41.8635953931176|41.831995499|\n| 41.8635953931176| 41.91005042|\n| 41.8635953931176|41.918540769|\n| 41.8635953931176|41.903789585|\n| 41.8635953931176|41.792972907|\n| 41.8635953931176|41.772572328|\n| 41.8635953931176|41.798045949|\n| 41.8635953931176| 41.91693959|\n| 41.8635953931176|41.769643678|\n| 41.8635953931176|41.807993845|\n| 41.8635953931176|41.931021006|\n| 41.8635953931176|41.717537435|\n| 41.8635953931176|41.896264842|\n| 41.8635953931176|41.903467448|\n| 41.8635953931176|41.904024731|\n| 41.8635953931176|41.799575049|\n| 41.8635953931176|41.767891721|\n| 41.8635953931176|41.819030696|\n| 41.8635953931176|41.708648274|\n| 41.8635953931176|41.938447822|\n| 41.8635953931176|41.770886041|\n| 41.8635953931176|41.838152546|\n| 41.8635953931176|41.802365973|\n| 41.8635953931176|41.815751486|\n| 41.8635953931176|41.881761494|\n| 41.8635953931176|  41.9394581|\n| 41.8635953931176|41.954712704|\n| 41.8635953931176|41.880964065|\n| 41.8635953931176|41.837146693|\n| 41.8635953931176|41.830691716|\n| 41.8635953931176|41.933353249|\n| 41.8635953931176|41.792826738|\n| 41.8635953931176|41.907076193|\n| 41.8635953931176|41.903698308|\n| 41.8635953931176|41.748149021|\n| 41.8635953931176|  41.9059755|\n| 41.8635953931176|41.972994218|\n| 41.8635953931176|41.968990729|\n| 41.8635953931176|41.909669676|\n| 41.8635953931176|41.836720547|\n| 41.8635953931176|41.819030696|\n| 41.8635953931176|41.885639561|\n| 41.8635953931176|41.945937926|\n| 41.8635953931176|41.968134284|\n| 41.8635953931176| 41.95218264|\n| 41.8635953931176| 41.78031747|\n| 41.8635953931176|  41.6852445|\n| 41.8635953931176|41.927660351|\n| 41.8635953931176|41.871196327|\n| 41.8635953931176|41.750891582|\n| 41.8635953931176|41.746710362|\n| 41.8635953931176|41.837966967|\n| 41.8635953931176|42.010367146|\n| 41.8635953931176|41.994461755|\n| 41.8635953931176|41.777644994|\n| 41.8635953931176|41.685453352|\n| 41.8635953931176| 41.73616511|\n| 41.8635953931176|41.960595458|\n| 41.8635953931176|41.690158412|\n| 41.8635953931176|41.808315829|\n| 41.8635953931176|41.841428717|\n| 41.8635953931176|41.757040589|\n| 41.8635953931176| 41.90579384|\n| 41.8635953931176|41.880619347|\n| 41.8635953931176|41.786669989|\n| 41.8635953931176|41.937332034|\n| 41.8635953931176|41.886236407|\n| 41.8635953931176|41.942073517|\n| 41.8635953931176|41.997018918|\n| 41.8635953931176|41.944530999|\n| 41.8635953931176|41.801305804|\n| 41.8635953931176|41.736589249|\n| 41.8635953931176|41.809439653|\n+-----------------+------------+\nonly showing top 1000 rows\n\n"
     ]
    }
   ],
   "source": [
    "print (\"Latitude actual vs predicted\")\n",
    "pred = predictions.select(\"prediction\")\n",
    "act = finalised_data.select(\"_7\").withColumnRenamed(\"_7\",\"actual\")\n",
    "act_vs_pred = pred.join(act)\n",
    "act_vs_pred.show(1000)"
   ]
  }
 ],
 "metadata": {
  "application/vnd.databricks.v1+notebook": {
   "dashboards": [],
   "language": "python",
   "notebookMetadata": {
    "pythonIndentUnit": 4
   },
   "notebookName": "Traffic Crash Analysis (2)",
   "widgets": {}
  }
 },
 "nbformat": 4,
 "nbformat_minor": 0
}
